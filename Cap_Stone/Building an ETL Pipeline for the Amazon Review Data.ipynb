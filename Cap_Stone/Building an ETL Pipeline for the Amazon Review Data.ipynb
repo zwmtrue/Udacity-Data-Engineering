{
 "cells": [
  {
   "cell_type": "markdown",
   "metadata": {},
   "source": [
    "# Amazon Products and Reviews Data (Sports and Outdoor) ETL \n",
    "### Data Engineering Capstone Project\n",
    "\n",
    "#### Project Summary\n",
    "In this project we explore the [Amazon Review Data (2018)](https://nijianmo.github.io/amazon/).\n",
    "Particularly focusing on the sports and outdoor category.\n",
    "\n",
    "The project follows the follow steps:\n",
    "* Step 1: Scope the Project and Gather Data\n",
    "* Step 2: Explore and Assess the Data\n",
    "* Step 3: Define the Data Model\n",
    "* Step 4: Run ETL to Model the Data\n",
    "* Step 5: Complete Project Write Up"
   ]
  },
  {
   "cell_type": "code",
   "execution_count": 1,
   "metadata": {},
   "outputs": [],
   "source": [
    "import configparser\n",
    "from datetime import datetime\n",
    "import os\n",
    "from pyspark.sql import SparkSession\n",
    "from pyspark.sql.functions import udf, col\n",
    "from pyspark.sql.functions import year, month, dayofmonth, hour, weekofyear, date_format\n",
    "from pyspark.sql.functions import col, size\n",
    "from pyspark.sql.types import IntegerType\n",
    "import pyspark.sql.functions as F\n",
    "import pyspark.sql.types as T\n",
    "\n",
    "\n",
    "config = configparser.ConfigParser()\n",
    "config.read('aws.cfg')\n",
    "\n",
    "os.environ['AWS_ACCESS_KEY_ID']=config['default']['AWS_ACCESS_KEY_ID']\n",
    "os.environ['AWS_SECRET_ACCESS_KEY']=config['default']['AWS_SECRET_ACCESS_KEY']"
   ]
  },
  {
   "cell_type": "code",
   "execution_count": 2,
   "metadata": {},
   "outputs": [
    {
     "data": {
      "text/html": [
       "\n",
       "            <div>\n",
       "                <p><b>SparkSession - in-memory</b></p>\n",
       "                \n",
       "        <div>\n",
       "            <p><b>SparkContext</b></p>\n",
       "\n",
       "            <p><a href=\"http://host.docker.internal:4041\">Spark UI</a></p>\n",
       "\n",
       "            <dl>\n",
       "              <dt>Version</dt>\n",
       "                <dd><code>v2.4.6</code></dd>\n",
       "              <dt>Master</dt>\n",
       "                <dd><code>local[*]</code></dd>\n",
       "              <dt>AppName</dt>\n",
       "                <dd><code>pyspark-shell</code></dd>\n",
       "            </dl>\n",
       "        </div>\n",
       "        \n",
       "            </div>\n",
       "        "
      ],
      "text/plain": [
       "<pyspark.sql.session.SparkSession at 0x26dd91afa08>"
      ]
     },
     "execution_count": 2,
     "metadata": {},
     "output_type": "execute_result"
    }
   ],
   "source": [
    "# Read in the data here\n",
    "spark = SparkSession \\\n",
    "        .builder \\\n",
    "        .config(\"spark.jars.packages\", \"org.apache.hadoop:hadoop-aws:2.7.0\") \\\n",
    "        .config(\"spark.sql.broadcastTimeout\", \"36000\")\\\n",
    "        .set(\"spark.speculation\",\"false\")\\\n",
    "        .getOrCreate()\n",
    "\n",
    "spark"
   ]
  },
  {
   "cell_type": "code",
   "execution_count": 3,
   "metadata": {},
   "outputs": [],
   "source": [
    "# Some udfs used later\n",
    "size_ = udf(lambda xs: len(xs) if xs else 0, IntegerType())"
   ]
  },
  {
   "cell_type": "code",
   "execution_count": 4,
   "metadata": {},
   "outputs": [],
   "source": [
    "from datetime import datetime\n",
    "get_timestamp = udf(lambda ms: datetime.fromtimestamp(ms), T.TimestampType())"
   ]
  },
  {
   "cell_type": "markdown",
   "metadata": {},
   "source": [
    "### Step 1: Scope the Project and Gather Data\n",
    "\n",
    "#### Scope \n",
    "In this project I explored the sports and outdoor category of [amazon review data](https://nijianmo.github.io/amazon/), the end goal is to produce a relational database based on the dataset. The richness of these data would be useful for analysis of various kind. The main tool in this project is PySpark.\n",
    "\n",
    "\n",
    "#### Describe and Gather Data\n",
    "The [amazon review data](https://nijianmo.github.io/amazon/) can be downloaded from their project website after filling out a request form. The website provides a review dataset, a product dataset and a core-review dataset \"in which all users and items have at least 5 reviews\". For this project I opt to work on the full product and review data, but focusing on the 'Sports and Outdoors' section. There exists many other version of the amazon review dataset, even one provided by [amazon](https://s3.amazonaws.com/amazon-reviews-pds/readme.html). The selected dataset stands out as one of the latest verion (2018) as well as it provides a separate products dataset, which believe to be a web crawl of amazon prodcut webpages. This combo provides a better context to understand the reviews and accumulated on Amazon.com.\n",
    "\n",
    "\n",
    "See below for some sample entries."
   ]
  },
  {
   "cell_type": "raw",
   "metadata": {},
   "source": [
    "Sample product entry \n",
    "{\n",
    "    \"description\": [\"A very nice book in good condition.\"], \n",
    "    \"title\": \"The Black Rifle, M16 Retrospective\", \n",
    "    \"brand\": \"book\", \n",
    "    \"rank\": \"3,748,135inSportsOutdoors(\", \n",
    "    \"main_cat\": \"Sports & Outdoors\", \n",
    "    \"price\": \"$96.00\", \n",
    "    \"asin\": \"0889350426\"\n",
    "}"
   ]
  },
  {
   "cell_type": "raw",
   "metadata": {},
   "source": [
    "Sample review entry\n",
    "{\n",
    "    \"overall\": 4.0, \n",
    "    \"verified\": true, \n",
    "    \"reviewTime\": \"01 18, 2016\", \n",
    "    \"reviewerID\": \"A1RQ667JBX2UAK\", \n",
    "    \"asin\": \"B000VZ1R4M\", \n",
    "    \"reviewerName\": \"cory knick\", \n",
    "    \"reviewText\": \"Good quality.  Stitching and materials .... location on your waist.\", \n",
    "    \"summary\": \"Great value.  Universal pistol fit, not universal belt/pants fit.\", \n",
    "    \"unixReviewTime\": 1453075200\n",
    "}"
   ]
  },
  {
   "cell_type": "markdown",
   "metadata": {},
   "source": [
    "For ease of processing and testing\n",
    "Use split command to slice the dataset into pieces.\n",
    "Then use aws cli sync to upload to s3 buckets."
   ]
  },
  {
   "cell_type": "raw",
   "metadata": {},
   "source": [
    "gunzip meta_Sports_and_Outdoors.json.gz\n",
    "mkdir products\n",
    "split -d 5000 --additional-suffix=.json meta_Sports_and_Outdoors.json ./products/products_\n",
    "#split file in block of 5000 lines and store in products folder as products_XXXX.json\n",
    "aws cli sync ./products/ s3://capstone-zwmtrue/products/\n",
    "#copy content of products folder to s3 bucket"
   ]
  },
  {
   "cell_type": "markdown",
   "metadata": {},
   "source": [
    "Repeat similar operations for the review data.\n",
    "\n",
    "It is recommended to process on a EC2 instance, to take advantage of the relative high speed within AWS.\n",
    "\n",
    "The EC2 micro instance provides at most 30 GB of free storage and should be sufficient to process all data."
   ]
  },
  {
   "cell_type": "code",
   "execution_count": 5,
   "metadata": {},
   "outputs": [],
   "source": [
    "products_data = \"s3a://capstone-zwmtrue/products/products_9011.json\"\n",
    "#work with a subset of 10x5000 records here\n",
    "products = spark.read.json(products_data)"
   ]
  },
  {
   "cell_type": "code",
   "execution_count": 6,
   "metadata": {},
   "outputs": [],
   "source": [
    "reviews_data = \"s3a://capstone-zwmtrue/reviews/reviews_9011.json\"\n",
    "#work with a subset of 10x5000 records here\n",
    "reviews = spark.read.json(reviews_data)"
   ]
  },
  {
   "cell_type": "markdown",
   "metadata": {},
   "source": [
    "### Step 2: Explore and Assess the Data\n",
    "#### Explore the Data \n",
    "First let's take a look at the imported data schema and counts."
   ]
  },
  {
   "cell_type": "code",
   "execution_count": 7,
   "metadata": {},
   "outputs": [
    {
     "name": "stdout",
     "output_type": "stream",
     "text": [
      "root\n",
      " |-- asin: string (nullable = true)\n",
      " |-- image: array (nullable = true)\n",
      " |    |-- element: string (containsNull = true)\n",
      " |-- overall: double (nullable = true)\n",
      " |-- reviewText: string (nullable = true)\n",
      " |-- reviewTime: string (nullable = true)\n",
      " |-- reviewerID: string (nullable = true)\n",
      " |-- reviewerName: string (nullable = true)\n",
      " |-- style: struct (nullable = true)\n",
      " |    |-- Color:: string (nullable = true)\n",
      " |    |-- Size:: string (nullable = true)\n",
      " |    |-- Style Name:: string (nullable = true)\n",
      " |-- summary: string (nullable = true)\n",
      " |-- unixReviewTime: long (nullable = true)\n",
      " |-- verified: boolean (nullable = true)\n",
      " |-- vote: string (nullable = true)\n",
      "\n"
     ]
    }
   ],
   "source": [
    "reviews.printSchema()"
   ]
  },
  {
   "cell_type": "code",
   "execution_count": 8,
   "metadata": {},
   "outputs": [
    {
     "data": {
      "text/plain": [
       "asin              1000\n",
       "image               24\n",
       "overall           1000\n",
       "reviewText        1000\n",
       "reviewTime        1000\n",
       "reviewerID        1000\n",
       "reviewerName      1000\n",
       "style              283\n",
       "summary            998\n",
       "unixReviewTime    1000\n",
       "verified          1000\n",
       "vote               284\n",
       "dtype: int64"
      ]
     },
     "execution_count": 8,
     "metadata": {},
     "output_type": "execute_result"
    }
   ],
   "source": [
    "df_review = reviews.limit(1000).toPandas()\n",
    "df_review.count()"
   ]
  },
  {
   "cell_type": "code",
   "execution_count": 9,
   "metadata": {},
   "outputs": [
    {
     "data": {
      "text/html": [
       "<div>\n",
       "<style scoped>\n",
       "    .dataframe tbody tr th:only-of-type {\n",
       "        vertical-align: middle;\n",
       "    }\n",
       "\n",
       "    .dataframe tbody tr th {\n",
       "        vertical-align: top;\n",
       "    }\n",
       "\n",
       "    .dataframe thead th {\n",
       "        text-align: right;\n",
       "    }\n",
       "</style>\n",
       "<table border=\"1\" class=\"dataframe\">\n",
       "  <thead>\n",
       "    <tr style=\"text-align: right;\">\n",
       "      <th></th>\n",
       "      <th>asin</th>\n",
       "      <th>image</th>\n",
       "      <th>overall</th>\n",
       "      <th>reviewText</th>\n",
       "      <th>reviewTime</th>\n",
       "      <th>reviewerID</th>\n",
       "      <th>reviewerName</th>\n",
       "      <th>style</th>\n",
       "      <th>summary</th>\n",
       "      <th>unixReviewTime</th>\n",
       "      <th>verified</th>\n",
       "      <th>vote</th>\n",
       "    </tr>\n",
       "  </thead>\n",
       "  <tbody>\n",
       "    <tr>\n",
       "      <td>0</td>\n",
       "      <td>B000FDDWB6</td>\n",
       "      <td>None</td>\n",
       "      <td>1.0</td>\n",
       "      <td>Unfortunately nowadays you have to spend quite...</td>\n",
       "      <td>06 15, 2013</td>\n",
       "      <td>A2NCK6EQTR2M3U</td>\n",
       "      <td>Bikenmike</td>\n",
       "      <td>None</td>\n",
       "      <td>Gear hunter</td>\n",
       "      <td>1371254400</td>\n",
       "      <td>False</td>\n",
       "      <td>None</td>\n",
       "    </tr>\n",
       "    <tr>\n",
       "      <td>1</td>\n",
       "      <td>B000FDDWB6</td>\n",
       "      <td>None</td>\n",
       "      <td>2.0</td>\n",
       "      <td>This bike I owned for about 4 months, mostly f...</td>\n",
       "      <td>06 12, 2013</td>\n",
       "      <td>A1NLA4BIBEY5G</td>\n",
       "      <td>J. Nicholson</td>\n",
       "      <td>None</td>\n",
       "      <td>Not really durable, cheaply made</td>\n",
       "      <td>1370995200</td>\n",
       "      <td>True</td>\n",
       "      <td>None</td>\n",
       "    </tr>\n",
       "    <tr>\n",
       "      <td>2</td>\n",
       "      <td>B000FDDWB6</td>\n",
       "      <td>None</td>\n",
       "      <td>5.0</td>\n",
       "      <td>I have had this bike for more than a year.  I ...</td>\n",
       "      <td>06 6, 2013</td>\n",
       "      <td>AWMGBGFW2TIFA</td>\n",
       "      <td>D.R. of IL</td>\n",
       "      <td>None</td>\n",
       "      <td>It works for what I needed</td>\n",
       "      <td>1370476800</td>\n",
       "      <td>True</td>\n",
       "      <td>None</td>\n",
       "    </tr>\n",
       "    <tr>\n",
       "      <td>3</td>\n",
       "      <td>B000FDDWB6</td>\n",
       "      <td>None</td>\n",
       "      <td>5.0</td>\n",
       "      <td>I absolutely love this bike! I've had it for a...</td>\n",
       "      <td>06 4, 2013</td>\n",
       "      <td>A1SDMTG1OKI27M</td>\n",
       "      <td>Skye</td>\n",
       "      <td>None</td>\n",
       "      <td>Amazing Product for an Amazing Price!</td>\n",
       "      <td>1370304000</td>\n",
       "      <td>False</td>\n",
       "      <td>None</td>\n",
       "    </tr>\n",
       "    <tr>\n",
       "      <td>4</td>\n",
       "      <td>B000FDDWB6</td>\n",
       "      <td>None</td>\n",
       "      <td>1.0</td>\n",
       "      <td>It is a shame that any company would put a bic...</td>\n",
       "      <td>05 29, 2013</td>\n",
       "      <td>A1C1AE4YLCLFDZ</td>\n",
       "      <td>Jed Kelson</td>\n",
       "      <td>None</td>\n",
       "      <td>A rotten lemon</td>\n",
       "      <td>1369785600</td>\n",
       "      <td>False</td>\n",
       "      <td>2</td>\n",
       "    </tr>\n",
       "  </tbody>\n",
       "</table>\n",
       "</div>"
      ],
      "text/plain": [
       "         asin image  overall  \\\n",
       "0  B000FDDWB6  None      1.0   \n",
       "1  B000FDDWB6  None      2.0   \n",
       "2  B000FDDWB6  None      5.0   \n",
       "3  B000FDDWB6  None      5.0   \n",
       "4  B000FDDWB6  None      1.0   \n",
       "\n",
       "                                          reviewText   reviewTime  \\\n",
       "0  Unfortunately nowadays you have to spend quite...  06 15, 2013   \n",
       "1  This bike I owned for about 4 months, mostly f...  06 12, 2013   \n",
       "2  I have had this bike for more than a year.  I ...   06 6, 2013   \n",
       "3  I absolutely love this bike! I've had it for a...   06 4, 2013   \n",
       "4  It is a shame that any company would put a bic...  05 29, 2013   \n",
       "\n",
       "       reviewerID  reviewerName style                                summary  \\\n",
       "0  A2NCK6EQTR2M3U     Bikenmike  None                            Gear hunter   \n",
       "1   A1NLA4BIBEY5G  J. Nicholson  None       Not really durable, cheaply made   \n",
       "2   AWMGBGFW2TIFA    D.R. of IL  None             It works for what I needed   \n",
       "3  A1SDMTG1OKI27M          Skye  None  Amazing Product for an Amazing Price!   \n",
       "4  A1C1AE4YLCLFDZ    Jed Kelson  None                         A rotten lemon   \n",
       "\n",
       "   unixReviewTime  verified  vote  \n",
       "0      1371254400     False  None  \n",
       "1      1370995200      True  None  \n",
       "2      1370476800      True  None  \n",
       "3      1370304000     False  None  \n",
       "4      1369785600     False     2  "
      ]
     },
     "execution_count": 9,
     "metadata": {},
     "output_type": "execute_result"
    }
   ],
   "source": [
    "df_review.head()\n",
    "# Using pandas b/c the preview is nicer"
   ]
  },
  {
   "cell_type": "code",
   "execution_count": 10,
   "metadata": {
    "scrolled": true
   },
   "outputs": [
    {
     "name": "stdout",
     "output_type": "stream",
     "text": [
      "root\n",
      " |-- also_buy: array (nullable = true)\n",
      " |    |-- element: string (containsNull = true)\n",
      " |-- also_view: array (nullable = true)\n",
      " |    |-- element: string (containsNull = true)\n",
      " |-- asin: string (nullable = true)\n",
      " |-- brand: string (nullable = true)\n",
      " |-- category: array (nullable = true)\n",
      " |    |-- element: string (containsNull = true)\n",
      " |-- date: string (nullable = true)\n",
      " |-- description: array (nullable = true)\n",
      " |    |-- element: string (containsNull = true)\n",
      " |-- details: string (nullable = true)\n",
      " |-- feature: array (nullable = true)\n",
      " |    |-- element: string (containsNull = true)\n",
      " |-- fit: string (nullable = true)\n",
      " |-- image: array (nullable = true)\n",
      " |    |-- element: string (containsNull = true)\n",
      " |-- main_cat: string (nullable = true)\n",
      " |-- price: string (nullable = true)\n",
      " |-- rank: string (nullable = true)\n",
      " |-- similar_item: array (nullable = true)\n",
      " |    |-- element: struct (containsNull = true)\n",
      " |    |    |-- asin: string (nullable = true)\n",
      " |    |    |-- features: struct (nullable = true)\n",
      " |    |    |    |-- Additional Features: string (nullable = true)\n",
      " |    |    |    |-- Are Batteries Included: string (nullable = true)\n",
      " |    |    |    |-- Are Batteries Required: string (nullable = true)\n",
      " |    |    |    |-- Closure Type: string (nullable = true)\n",
      " |    |    |    |-- Color: string (nullable = true)\n",
      " |    |    |    |-- Customer Rating: string (nullable = true)\n",
      " |    |    |    |-- Item Dimensions: string (nullable = true)\n",
      " |    |    |    |-- Item Weight: string (nullable = true)\n",
      " |    |    |    |-- League Name: string (nullable = true)\n",
      " |    |    |    |-- Liquid Volume: string (nullable = true)\n",
      " |    |    |    |-- Lithium Battery Packaging: string (nullable = true)\n",
      " |    |    |    |-- Material Type: string (nullable = true)\n",
      " |    |    |    |-- Model Year: string (nullable = true)\n",
      " |    |    |    |-- Number of Items: string (nullable = true)\n",
      " |    |    |    |-- Price: string (nullable = true)\n",
      " |    |    |    |-- Shipping: string (nullable = true)\n",
      " |    |    |    |-- Size: string (nullable = true)\n",
      " |    |    |    |-- Sold By: string (nullable = true)\n",
      " |    |    |    |-- Specific Uses For Product: string (nullable = true)\n",
      " |    |    |    |-- Sport Type: string (nullable = true)\n",
      " |    |    |    |-- Team Name: string (nullable = true)\n",
      " |    |    |    |-- Temperature Rating: string (nullable = true)\n",
      " |    |    |    |-- Warranty Description: string (nullable = true)\n",
      " |    |    |    |-- Weight Supported: string (nullable = true)\n",
      " |    |    |-- href: string (nullable = true)\n",
      " |    |    |-- img: string (nullable = true)\n",
      " |    |    |-- name: string (nullable = true)\n",
      " |-- tech1: struct (nullable = true)\n",
      " |    |-- Assembled Height: string (nullable = true)\n",
      " |    |-- Assembled Width: string (nullable = true)\n",
      " |    |-- Average Battery Life: string (nullable = true)\n",
      " |    |-- Batteries: string (nullable = true)\n",
      " |    |-- Batteries Included?: string (nullable = true)\n",
      " |    |-- Batteries Required?: string (nullable = true)\n",
      " |    |-- Battery Cell Type: string (nullable = true)\n",
      " |    |-- Brand: string (nullable = true)\n",
      " |    |-- Brand Name: string (nullable = true)\n",
      " |    |-- California residents: string (nullable = true)\n",
      " |    |-- Color: string (nullable = true)\n",
      " |    |-- Discontinued by manufacturer: string (nullable = true)\n",
      " |    |-- Folding: string (nullable = true)\n",
      " |    |-- Included Components: string (nullable = true)\n",
      " |    |-- Item Dimensions  L x W x H: string (nullable = true)\n",
      " |    |-- Item Package Quantity: string (nullable = true)\n",
      " |    |-- Item Weight: string (nullable = true)\n",
      " |    |-- Item model number: string (nullable = true)\n",
      " |    |-- Manufacturer Part Number: string (nullable = true)\n",
      " |    |-- Material: string (nullable = true)\n",
      " |    |-- Material Type: string (nullable = true)\n",
      " |    |-- Measurement System: string (nullable = true)\n",
      " |    |-- Model: string (nullable = true)\n",
      " |    |-- Number Of Pieces: string (nullable = true)\n",
      " |    |-- Number of Handles: string (nullable = true)\n",
      " |    |-- Number of Items: string (nullable = true)\n",
      " |    |-- OEM Part Number: string (nullable = true)\n",
      " |    |-- Package Dimensions: string (nullable = true)\n",
      " |    |-- Part Number: string (nullable = true)\n",
      " |    |-- Pattern: string (nullable = true)\n",
      " |    |-- Power Source: string (nullable = true)\n",
      " |    |-- Product Dimensions: string (nullable = true)\n",
      " |    |-- Size: string (nullable = true)\n",
      " |    |-- Style: string (nullable = true)\n",
      " |    |-- Type of Bulb: string (nullable = true)\n",
      " |    |-- Vehicle Service Type: string (nullable = true)\n",
      " |    |-- Voltage: string (nullable = true)\n",
      " |    |-- Warranty Description: string (nullable = true)\n",
      " |    |-- Wattage: string (nullable = true)\n",
      " |    |-- Weight: string (nullable = true)\n",
      " |-- title: string (nullable = true)\n",
      "\n"
     ]
    }
   ],
   "source": [
    "products.printSchema()"
   ]
  },
  {
   "cell_type": "code",
   "execution_count": 11,
   "metadata": {
    "scrolled": true
   },
   "outputs": [
    {
     "data": {
      "text/plain": [
       "also_buy         194\n",
       "also_view        304\n",
       "asin            1000\n",
       "brand            831\n",
       "category         914\n",
       "date             138\n",
       "description      770\n",
       "details          831\n",
       "feature          755\n",
       "fit               28\n",
       "image            557\n",
       "main_cat         889\n",
       "price            387\n",
       "rank             978\n",
       "similar_item      12\n",
       "tech1             11\n",
       "title           1000\n",
       "dtype: int64"
      ]
     },
     "execution_count": 11,
     "metadata": {},
     "output_type": "execute_result"
    }
   ],
   "source": [
    "df_products = products.limit(1000).toPandas()\n",
    "df_products.count()"
   ]
  },
  {
   "cell_type": "code",
   "execution_count": 12,
   "metadata": {},
   "outputs": [
    {
     "data": {
      "text/html": [
       "<div>\n",
       "<style scoped>\n",
       "    .dataframe tbody tr th:only-of-type {\n",
       "        vertical-align: middle;\n",
       "    }\n",
       "\n",
       "    .dataframe tbody tr th {\n",
       "        vertical-align: top;\n",
       "    }\n",
       "\n",
       "    .dataframe thead th {\n",
       "        text-align: right;\n",
       "    }\n",
       "</style>\n",
       "<table border=\"1\" class=\"dataframe\">\n",
       "  <thead>\n",
       "    <tr style=\"text-align: right;\">\n",
       "      <th></th>\n",
       "      <th>also_buy</th>\n",
       "      <th>also_view</th>\n",
       "      <th>asin</th>\n",
       "      <th>brand</th>\n",
       "      <th>category</th>\n",
       "      <th>date</th>\n",
       "      <th>description</th>\n",
       "      <th>details</th>\n",
       "      <th>feature</th>\n",
       "      <th>fit</th>\n",
       "      <th>image</th>\n",
       "      <th>main_cat</th>\n",
       "      <th>price</th>\n",
       "      <th>rank</th>\n",
       "      <th>similar_item</th>\n",
       "      <th>tech1</th>\n",
       "      <th>title</th>\n",
       "    </tr>\n",
       "  </thead>\n",
       "  <tbody>\n",
       "    <tr>\n",
       "      <td>0</td>\n",
       "      <td>[B0072084UO, B004VQ6170, B0197DBCYS, B01ESKH8S...</td>\n",
       "      <td>None</td>\n",
       "      <td>B00FQUR4F8</td>\n",
       "      <td>Scuba Choice</td>\n",
       "      <td>None</td>\n",
       "      <td>None</td>\n",
       "      <td>[One of the best selling items in Scuba Choice...</td>\n",
       "      <td>\\n      &lt;div class=\"content\"&gt;\\n\\n\\n\\n\\n\\n\\n&lt;ul...</td>\n",
       "      <td>[Length: 2-1/4\", Will support the heaviest fis...</td>\n",
       "      <td>None</td>\n",
       "      <td>None</td>\n",
       "      <td>Sports &amp; Outdoors</td>\n",
       "      <td>$7.98</td>\n",
       "      <td>770,132inSportsOutdoors(</td>\n",
       "      <td>None</td>\n",
       "      <td>None</td>\n",
       "      <td>Scuba Choice Archery Bow Fishing Fish Hunting ...</td>\n",
       "    </tr>\n",
       "    <tr>\n",
       "      <td>1</td>\n",
       "      <td>None</td>\n",
       "      <td>None</td>\n",
       "      <td>B00FQV0R7O</td>\n",
       "      <td>Scuba Choice</td>\n",
       "      <td>None</td>\n",
       "      <td>None</td>\n",
       "      <td>[One of the best selling items in Scuba Choice...</td>\n",
       "      <td>\\n      &lt;div class=\"content\"&gt;\\n\\n\\n\\n\\n\\n\\n&lt;ul...</td>\n",
       "      <td>[Length: 3.5\", A compact tool for smoother and...</td>\n",
       "      <td>None</td>\n",
       "      <td>None</td>\n",
       "      <td>Sports &amp; Outdoors</td>\n",
       "      <td>$7.48</td>\n",
       "      <td>2,069,324inSportsOutdoors(</td>\n",
       "      <td>None</td>\n",
       "      <td>None</td>\n",
       "      <td>Scuba Choice 3.5\" Black Archery Bow Fishing Fi...</td>\n",
       "    </tr>\n",
       "    <tr>\n",
       "      <td>2</td>\n",
       "      <td>[B076TDHCG8, B01N7NL02R, B07D9P92N9, B07CN7D7L...</td>\n",
       "      <td>[B076TDHCG8, B01N7NL02R, B07D9P92N9, B07GJLQ7K...</td>\n",
       "      <td>B00FQV25WO</td>\n",
       "      <td>The North Face</td>\n",
       "      <td>[Sports &amp; Outdoors, Outdoor Recreation, Winter...</td>\n",
       "      <td>None</td>\n",
       "      <td>[Get back to basics with a breathable cotton/o...</td>\n",
       "      <td>\\n      &lt;div class=\"content\"&gt;\\n\\n\\n\\n\\n\\n\\n&lt;ul...</td>\n",
       "      <td>[Cotton,Polyester, Made in USA or Imported, Cl...</td>\n",
       "      <td>None</td>\n",
       "      <td>[https://images-na.ssl-images-amazon.com/image...</td>\n",
       "      <td>Sports &amp; Outdoors</td>\n",
       "      <td>$14.05 - $1,999.00</td>\n",
       "      <td>8,003inSportsOutdoors(</td>\n",
       "      <td>None</td>\n",
       "      <td>None</td>\n",
       "      <td>The North Face Men's Short Sleeve Half Dome Tee</td>\n",
       "    </tr>\n",
       "    <tr>\n",
       "      <td>3</td>\n",
       "      <td>[B076TDHCG8, B01N7NL02R, B07D9P92N9, B07CN7D7L...</td>\n",
       "      <td>[B076TDHCG8, B01N7NL02R, B07D9P92N9, B07GJLQ7K...</td>\n",
       "      <td>B00FQV31OK</td>\n",
       "      <td>The North Face</td>\n",
       "      <td>[Sports &amp; Outdoors, Outdoor Recreation, Winter...</td>\n",
       "      <td>None</td>\n",
       "      <td>[Get back to basics with a breathable cotton/o...</td>\n",
       "      <td>\\n      &lt;div class=\"content\"&gt;\\n\\n\\n\\n\\n\\n\\n&lt;ul...</td>\n",
       "      <td>[Cotton,Polyester, Made in USA or Imported, Cl...</td>\n",
       "      <td>None</td>\n",
       "      <td>[https://images-na.ssl-images-amazon.com/image...</td>\n",
       "      <td>Sports &amp; Outdoors</td>\n",
       "      <td>$14.05 - $1,999.00</td>\n",
       "      <td>8,003inSportsOutdoors(</td>\n",
       "      <td>None</td>\n",
       "      <td>None</td>\n",
       "      <td>The North Face Men's Short Sleeve Half Dome Tee</td>\n",
       "    </tr>\n",
       "    <tr>\n",
       "      <td>4</td>\n",
       "      <td>[B076TDHCG8, B01N7NL02R, B07D9P92N9, B07CN7D7L...</td>\n",
       "      <td>[B076TDHCG8, B01N7NL02R, B07D9P92N9, B07GJLQ7K...</td>\n",
       "      <td>B00FQV3ISY</td>\n",
       "      <td>The North Face</td>\n",
       "      <td>[Sports &amp; Outdoors, Outdoor Recreation, Winter...</td>\n",
       "      <td>None</td>\n",
       "      <td>[Get back to basics with a breathable cotton/o...</td>\n",
       "      <td>\\n      &lt;div class=\"content\"&gt;\\n\\n\\n\\n\\n\\n\\n&lt;ul...</td>\n",
       "      <td>[Cotton,Polyester, Made in USA or Imported, Cl...</td>\n",
       "      <td>None</td>\n",
       "      <td>[https://images-na.ssl-images-amazon.com/image...</td>\n",
       "      <td>Sports &amp; Outdoors</td>\n",
       "      <td>$14.05 - $1,999.00</td>\n",
       "      <td>8,003inSportsOutdoors(</td>\n",
       "      <td>None</td>\n",
       "      <td>None</td>\n",
       "      <td>The North Face Men's Short Sleeve Half Dome Tee</td>\n",
       "    </tr>\n",
       "  </tbody>\n",
       "</table>\n",
       "</div>"
      ],
      "text/plain": [
       "                                            also_buy  \\\n",
       "0  [B0072084UO, B004VQ6170, B0197DBCYS, B01ESKH8S...   \n",
       "1                                               None   \n",
       "2  [B076TDHCG8, B01N7NL02R, B07D9P92N9, B07CN7D7L...   \n",
       "3  [B076TDHCG8, B01N7NL02R, B07D9P92N9, B07CN7D7L...   \n",
       "4  [B076TDHCG8, B01N7NL02R, B07D9P92N9, B07CN7D7L...   \n",
       "\n",
       "                                           also_view        asin  \\\n",
       "0                                               None  B00FQUR4F8   \n",
       "1                                               None  B00FQV0R7O   \n",
       "2  [B076TDHCG8, B01N7NL02R, B07D9P92N9, B07GJLQ7K...  B00FQV25WO   \n",
       "3  [B076TDHCG8, B01N7NL02R, B07D9P92N9, B07GJLQ7K...  B00FQV31OK   \n",
       "4  [B076TDHCG8, B01N7NL02R, B07D9P92N9, B07GJLQ7K...  B00FQV3ISY   \n",
       "\n",
       "            brand                                           category  date  \\\n",
       "0    Scuba Choice                                               None  None   \n",
       "1    Scuba Choice                                               None  None   \n",
       "2  The North Face  [Sports & Outdoors, Outdoor Recreation, Winter...  None   \n",
       "3  The North Face  [Sports & Outdoors, Outdoor Recreation, Winter...  None   \n",
       "4  The North Face  [Sports & Outdoors, Outdoor Recreation, Winter...  None   \n",
       "\n",
       "                                         description  \\\n",
       "0  [One of the best selling items in Scuba Choice...   \n",
       "1  [One of the best selling items in Scuba Choice...   \n",
       "2  [Get back to basics with a breathable cotton/o...   \n",
       "3  [Get back to basics with a breathable cotton/o...   \n",
       "4  [Get back to basics with a breathable cotton/o...   \n",
       "\n",
       "                                             details  \\\n",
       "0  \\n      <div class=\"content\">\\n\\n\\n\\n\\n\\n\\n<ul...   \n",
       "1  \\n      <div class=\"content\">\\n\\n\\n\\n\\n\\n\\n<ul...   \n",
       "2  \\n      <div class=\"content\">\\n\\n\\n\\n\\n\\n\\n<ul...   \n",
       "3  \\n      <div class=\"content\">\\n\\n\\n\\n\\n\\n\\n<ul...   \n",
       "4  \\n      <div class=\"content\">\\n\\n\\n\\n\\n\\n\\n<ul...   \n",
       "\n",
       "                                             feature   fit  \\\n",
       "0  [Length: 2-1/4\", Will support the heaviest fis...  None   \n",
       "1  [Length: 3.5\", A compact tool for smoother and...  None   \n",
       "2  [Cotton,Polyester, Made in USA or Imported, Cl...  None   \n",
       "3  [Cotton,Polyester, Made in USA or Imported, Cl...  None   \n",
       "4  [Cotton,Polyester, Made in USA or Imported, Cl...  None   \n",
       "\n",
       "                                               image           main_cat  \\\n",
       "0                                               None  Sports & Outdoors   \n",
       "1                                               None  Sports & Outdoors   \n",
       "2  [https://images-na.ssl-images-amazon.com/image...  Sports & Outdoors   \n",
       "3  [https://images-na.ssl-images-amazon.com/image...  Sports & Outdoors   \n",
       "4  [https://images-na.ssl-images-amazon.com/image...  Sports & Outdoors   \n",
       "\n",
       "                price                        rank similar_item tech1  \\\n",
       "0               $7.98    770,132inSportsOutdoors(         None  None   \n",
       "1               $7.48  2,069,324inSportsOutdoors(         None  None   \n",
       "2  $14.05 - $1,999.00      8,003inSportsOutdoors(         None  None   \n",
       "3  $14.05 - $1,999.00      8,003inSportsOutdoors(         None  None   \n",
       "4  $14.05 - $1,999.00      8,003inSportsOutdoors(         None  None   \n",
       "\n",
       "                                               title  \n",
       "0  Scuba Choice Archery Bow Fishing Fish Hunting ...  \n",
       "1  Scuba Choice 3.5\" Black Archery Bow Fishing Fi...  \n",
       "2    The North Face Men's Short Sleeve Half Dome Tee  \n",
       "3    The North Face Men's Short Sleeve Half Dome Tee  \n",
       "4    The North Face Men's Short Sleeve Half Dome Tee  "
      ]
     },
     "execution_count": 12,
     "metadata": {},
     "output_type": "execute_result"
    }
   ],
   "source": [
    "df_products.head()"
   ]
  },
  {
   "cell_type": "markdown",
   "metadata": {},
   "source": [
    "'asin': Product id and short for 'Amazon Standard Identification Number', the product page can be accessed at [https://amazon.com/dp/0889350426](https://amazon.com/dp/0889350426)\n",
    "\n",
    "'also_buy','also_view': Array of asins of related products.\n",
    "\n",
    "'similar_item': This appear to a web scrape of the similar item section on the product page, we only need the respective asin here.\n",
    "\n",
    "Spin off separate tables for these 3 different categories, this should be helpful to establish product cluster."
   ]
  },
  {
   "cell_type": "markdown",
   "metadata": {},
   "source": [
    "The following columns are some of the less complex ones and seems to associate with the product more closely\n",
    "\n",
    "'brand': Brand name.\n",
    "\n",
    "'date': Date of product listed as string in American format (MMM d, YYYY)\n",
    "\n",
    "'description': An array of strings contains the product description. This needs to be concated. There appear to be instances where raw web scrapes are passed in.\n",
    "\n",
    "'details': Detail section on prodcut page, frequently contain raw html.\n",
    "\n",
    "'feature_merged': Featue section on product page.\n",
    "\n",
    "'main_cat': Main category of product.\n",
    "\n",
    "'price': Price listed, when multiple price for different size/color exists, only extract the first. (This dues part to pyspark doesn't provide an \"extract all\" feature to its regexp funcitions.\n",
    "\n",
    "'rank': Rank of the first category listed, this is usually the main category.\n",
    "\n",
    "'title': Title string."
   ]
  },
  {
   "cell_type": "markdown",
   "metadata": {},
   "source": [
    "#### Cleaning Steps\n",
    "\n",
    "Now we clean the core part of products and reviews\n",
    "\n",
    "For products we need to \n",
    "    1. Convert date to datetime\n",
    "    2. Merge description, feature into one string per row. \n",
    "    3. Extract the first item as the primary price/rank.\n",
    "    4. Parse the html table in fit column\n",
    "    5. Designated category id for the main_cat\n",
    "    6. Rename asin to product_id\n",
    "    "
   ]
  },
  {
   "cell_type": "code",
   "execution_count": 13,
   "metadata": {
    "scrolled": false
   },
   "outputs": [
    {
     "name": "stdout",
     "output_type": "stream",
     "text": [
      "root\n",
      " |-- also_buy: array (nullable = true)\n",
      " |    |-- element: string (containsNull = true)\n",
      " |-- also_view: array (nullable = true)\n",
      " |    |-- element: string (containsNull = true)\n",
      " |-- asin: string (nullable = true)\n",
      " |-- brand: string (nullable = true)\n",
      " |-- category: array (nullable = true)\n",
      " |    |-- element: string (containsNull = true)\n",
      " |-- date: string (nullable = true)\n",
      " |-- description: array (nullable = true)\n",
      " |    |-- element: string (containsNull = true)\n",
      " |-- details: string (nullable = true)\n",
      " |-- feature: array (nullable = true)\n",
      " |    |-- element: string (containsNull = true)\n",
      " |-- fit: string (nullable = true)\n",
      " |-- image: array (nullable = true)\n",
      " |    |-- element: string (containsNull = true)\n",
      " |-- main_cat: string (nullable = true)\n",
      " |-- price: string (nullable = true)\n",
      " |-- rank: string (nullable = true)\n",
      " |-- similar_item: array (nullable = true)\n",
      " |    |-- element: struct (containsNull = true)\n",
      " |    |    |-- asin: string (nullable = true)\n",
      " |    |    |-- features: struct (nullable = true)\n",
      " |    |    |    |-- Additional Features: string (nullable = true)\n",
      " |    |    |    |-- Are Batteries Included: string (nullable = true)\n",
      " |    |    |    |-- Are Batteries Required: string (nullable = true)\n",
      " |    |    |    |-- Closure Type: string (nullable = true)\n",
      " |    |    |    |-- Color: string (nullable = true)\n",
      " |    |    |    |-- Customer Rating: string (nullable = true)\n",
      " |    |    |    |-- Item Dimensions: string (nullable = true)\n",
      " |    |    |    |-- Item Weight: string (nullable = true)\n",
      " |    |    |    |-- League Name: string (nullable = true)\n",
      " |    |    |    |-- Liquid Volume: string (nullable = true)\n",
      " |    |    |    |-- Lithium Battery Packaging: string (nullable = true)\n",
      " |    |    |    |-- Material Type: string (nullable = true)\n",
      " |    |    |    |-- Model Year: string (nullable = true)\n",
      " |    |    |    |-- Number of Items: string (nullable = true)\n",
      " |    |    |    |-- Price: string (nullable = true)\n",
      " |    |    |    |-- Shipping: string (nullable = true)\n",
      " |    |    |    |-- Size: string (nullable = true)\n",
      " |    |    |    |-- Sold By: string (nullable = true)\n",
      " |    |    |    |-- Specific Uses For Product: string (nullable = true)\n",
      " |    |    |    |-- Sport Type: string (nullable = true)\n",
      " |    |    |    |-- Team Name: string (nullable = true)\n",
      " |    |    |    |-- Temperature Rating: string (nullable = true)\n",
      " |    |    |    |-- Warranty Description: string (nullable = true)\n",
      " |    |    |    |-- Weight Supported: string (nullable = true)\n",
      " |    |    |-- href: string (nullable = true)\n",
      " |    |    |-- img: string (nullable = true)\n",
      " |    |    |-- name: string (nullable = true)\n",
      " |-- tech1: struct (nullable = true)\n",
      " |    |-- Assembled Height: string (nullable = true)\n",
      " |    |-- Assembled Width: string (nullable = true)\n",
      " |    |-- Average Battery Life: string (nullable = true)\n",
      " |    |-- Batteries: string (nullable = true)\n",
      " |    |-- Batteries Included?: string (nullable = true)\n",
      " |    |-- Batteries Required?: string (nullable = true)\n",
      " |    |-- Battery Cell Type: string (nullable = true)\n",
      " |    |-- Brand: string (nullable = true)\n",
      " |    |-- Brand Name: string (nullable = true)\n",
      " |    |-- California residents: string (nullable = true)\n",
      " |    |-- Color: string (nullable = true)\n",
      " |    |-- Discontinued by manufacturer: string (nullable = true)\n",
      " |    |-- Folding: string (nullable = true)\n",
      " |    |-- Included Components: string (nullable = true)\n",
      " |    |-- Item Dimensions  L x W x H: string (nullable = true)\n",
      " |    |-- Item Package Quantity: string (nullable = true)\n",
      " |    |-- Item Weight: string (nullable = true)\n",
      " |    |-- Item model number: string (nullable = true)\n",
      " |    |-- Manufacturer Part Number: string (nullable = true)\n",
      " |    |-- Material: string (nullable = true)\n",
      " |    |-- Material Type: string (nullable = true)\n",
      " |    |-- Measurement System: string (nullable = true)\n",
      " |    |-- Model: string (nullable = true)\n",
      " |    |-- Number Of Pieces: string (nullable = true)\n",
      " |    |-- Number of Handles: string (nullable = true)\n",
      " |    |-- Number of Items: string (nullable = true)\n",
      " |    |-- OEM Part Number: string (nullable = true)\n",
      " |    |-- Package Dimensions: string (nullable = true)\n",
      " |    |-- Part Number: string (nullable = true)\n",
      " |    |-- Pattern: string (nullable = true)\n",
      " |    |-- Power Source: string (nullable = true)\n",
      " |    |-- Product Dimensions: string (nullable = true)\n",
      " |    |-- Size: string (nullable = true)\n",
      " |    |-- Style: string (nullable = true)\n",
      " |    |-- Type of Bulb: string (nullable = true)\n",
      " |    |-- Vehicle Service Type: string (nullable = true)\n",
      " |    |-- Voltage: string (nullable = true)\n",
      " |    |-- Warranty Description: string (nullable = true)\n",
      " |    |-- Wattage: string (nullable = true)\n",
      " |    |-- Weight: string (nullable = true)\n",
      " |-- title: string (nullable = true)\n",
      " |-- product_date: date (nullable = true)\n",
      " |-- description_merged: string (nullable = false)\n",
      " |-- feature_merged: string (nullable = false)\n",
      " |-- first_price: decimal(10,0) (nullable = true)\n",
      " |-- first_rank: integer (nullable = true)\n",
      " |-- fit_id: string (nullable = true)\n",
      " |-- main_cat_id: string (nullable = true)\n",
      " |-- brand_id: string (nullable = true)\n",
      "\n"
     ]
    }
   ],
   "source": [
    "products_cleaned = (\n",
    "    products\n",
    "    .withColumn('product_date', F.to_date('date', 'MMM d, YYYY'))\n",
    "    .withColumn('description_merged', F.concat_ws(' ', 'description'))\n",
    "    .withColumn('feature_merged', F.concat_ws(' ', 'feature'))\n",
    "    .withColumn('first_price', F.regexp_extract('price', r'\\d+\\.\\d+', 0).cast('Decimal'))\n",
    "    .withColumn('first_rank', F.regexp_extract('rank', r'\\d+\\.\\d+', 0).cast('Int'))\n",
    "    #.withColumn('fit_str', parse_table_udf(col('fit')))\n",
    "    .withColumn('fit_id', F.sha2(col('fit'), 256))\n",
    "    .withColumn('main_cat_id', F.sha2('main_cat', 256))\n",
    "    .withColumn('brand_id', F.sha2('brand', 256))\n",
    ")\n",
    "products_cleaned.printSchema()"
   ]
  },
  {
   "cell_type": "markdown",
   "metadata": {},
   "source": [
    "Let's move on to reviews dataset\n",
    "\n",
    "On the basic level we need to \n",
    "    1. Create a primary key.\n",
    "    2. Convert date string and unix timestamp properly.\n",
    "    3. Convert vote to integer.\n",
    "    4. Rename reviewerID to user_Id."
   ]
  },
  {
   "cell_type": "code",
   "execution_count": 14,
   "metadata": {
    "scrolled": false
   },
   "outputs": [
    {
     "name": "stdout",
     "output_type": "stream",
     "text": [
      "root\n",
      " |-- asin: string (nullable = true)\n",
      " |-- image: array (nullable = true)\n",
      " |    |-- element: string (containsNull = true)\n",
      " |-- overall: double (nullable = true)\n",
      " |-- reviewText: string (nullable = true)\n",
      " |-- reviewTime: string (nullable = true)\n",
      " |-- user_Id: string (nullable = true)\n",
      " |-- reviewerName: string (nullable = true)\n",
      " |-- style: struct (nullable = true)\n",
      " |    |-- Color:: string (nullable = true)\n",
      " |    |-- Size:: string (nullable = true)\n",
      " |    |-- Style Name:: string (nullable = true)\n",
      " |-- summary: string (nullable = true)\n",
      " |-- unixReviewTime: long (nullable = true)\n",
      " |-- verified: boolean (nullable = true)\n",
      " |-- vote: string (nullable = true)\n",
      " |-- review_Id: string (nullable = true)\n",
      " |-- review_Date: date (nullable = true)\n",
      " |-- review_TS: timestamp (nullable = true)\n",
      " |-- votes: integer (nullable = true)\n",
      "\n"
     ]
    }
   ],
   "source": [
    "reviews_cleaned = (\n",
    "    reviews\n",
    "    .withColumn('review_Id', F.sha2(F.concat_ws(' ', col('asin'), col('reviewerID')), 256))\n",
    "    .withColumn('review_Date', F.to_date('reviewTime', 'MM dd, yyyy'))\n",
    "    .withColumn('review_TS', get_timestamp('unixReviewTime'))\n",
    "    .withColumn('votes', col('vote').cast(\"Int\"))\n",
    "    .withColumnRenamed('reviewerID', 'user_Id')\n",
    ")\n",
    "reviews_cleaned.printSchema()"
   ]
  },
  {
   "cell_type": "markdown",
   "metadata": {},
   "source": [
    "### Step 3: Define the Data Model and Run Pipelines to Model the Data \n",
    "#### 3.1 Conceptual Data Model\n",
    "Let's build a star schema around fact reivews. "
   ]
  },
  {
   "cell_type": "markdown",
   "metadata": {},
   "source": [
    "fact_review table is defined as follows"
   ]
  },
  {
   "cell_type": "raw",
   "metadata": {},
   "source": [
    "CREATE TABLE fact_review(\n",
    "    review_Id Char(256) Primary Key,\n",
    "    asin Varchar not null,\n",
    "    user_Id Varchar not null,\n",
    "    category_Id  Char(256),\n",
    "    overall Decimal,\n",
    "    review_Text Varchar,\n",
    "    review_Date Datetime,\n",
    "    review_TS Timestamp,\n",
    "    summary Varchar,\n",
    "    verified Boolean,\n",
    "    votes Integer\n",
    ");"
   ]
  },
  {
   "cell_type": "code",
   "execution_count": 15,
   "metadata": {
    "scrolled": false
   },
   "outputs": [
    {
     "name": "stdout",
     "output_type": "stream",
     "text": [
      "root\n",
      " |-- review_Id: string (nullable = true)\n",
      " |-- asin: string (nullable = true)\n",
      " |-- overall: double (nullable = true)\n",
      " |-- review_Text: string (nullable = true)\n",
      " |-- review_Date: date (nullable = true)\n",
      " |-- year: integer (nullable = true)\n",
      " |-- month: integer (nullable = true)\n",
      " |-- user_Id: string (nullable = true)\n",
      " |-- review_TS: timestamp (nullable = true)\n",
      " |-- summary: string (nullable = true)\n",
      " |-- verified: boolean (nullable = true)\n",
      " |-- votes: integer (nullable = true)\n",
      " |-- category_id: string (nullable = true)\n",
      " |-- brand_id: string (nullable = true)\n",
      " |-- fit_id: string (nullable = true)\n",
      "\n"
     ]
    }
   ],
   "source": [
    "fact_review = (\n",
    "    reviews_cleaned.join(products_cleaned, ['asin'], how='full')\n",
    "    .withColumn('year', F.year('review_Date'))\n",
    "    .withColumn('month', F.month('review_Date'))\n",
    "    .select(\n",
    "        col('review_Id'), \n",
    "        col('asin'), \n",
    "        col('overall'), \n",
    "        col('reviewText').alias('review_Text'), \n",
    "        col('review_Date'),\n",
    "        col('year'),\n",
    "        col('month'),\n",
    "        col('user_Id'), \n",
    "        col('review_TS'), \n",
    "        col('summary'), \n",
    "        col('verified'), \n",
    "        col('votes'), \n",
    "        col('main_cat_id').alias('category_id'),\n",
    "        col('brand_id'),\n",
    "        col('fit_id')\n",
    "    )\n",
    ")\n",
    "fact_review.printSchema()"
   ]
  },
  {
   "cell_type": "raw",
   "metadata": {},
   "source": [
    "CEATE TABLE dim_product(\n",
    "    asin Varchar Primary Key,\n",
    "    brand_id Varchar,\n",
    "    description Varchar,\n",
    "    feature Varchar,\n",
    "    details Varchar,\n",
    "    first_price Decimal,\n",
    "    first_rank Integer,\n",
    "    main_cat_id Varchar,\n",
    "    product_date Datetime,\n",
    "    fit_id Varchar,\n",
    "    title Varchar\n",
    ");"
   ]
  },
  {
   "cell_type": "markdown",
   "metadata": {},
   "source": [
    "The following should create our dim_product table in PySpark"
   ]
  },
  {
   "cell_type": "code",
   "execution_count": 16,
   "metadata": {
    "scrolled": false
   },
   "outputs": [
    {
     "name": "stdout",
     "output_type": "stream",
     "text": [
      "root\n",
      " |-- asin: string (nullable = true)\n",
      " |-- brand_id: string (nullable = true)\n",
      " |-- description: string (nullable = false)\n",
      " |-- details: string (nullable = true)\n",
      " |-- feature: string (nullable = false)\n",
      " |-- first_price: decimal(10,0) (nullable = true)\n",
      " |-- first_rank: integer (nullable = true)\n",
      " |-- category_id: string (nullable = true)\n",
      " |-- product_date: date (nullable = true)\n",
      " |-- year: integer (nullable = true)\n",
      " |-- month: integer (nullable = true)\n",
      " |-- fit_id: string (nullable = true)\n",
      " |-- title: string (nullable = true)\n",
      "\n"
     ]
    }
   ],
   "source": [
    "dim_product = (\n",
    "    products_cleaned\n",
    "        .select(\n",
    "            col('asin'), \n",
    "            col('brand_id'), \n",
    "            col('description_merged').alias('description'), \n",
    "            col('details'), \n",
    "            col('feature_merged').alias('feature'), \n",
    "            col('first_price'), \n",
    "            col('first_rank'), \n",
    "            col('main_cat_id').alias('category_id'), \n",
    "            col('product_date'), \n",
    "            F.year('product_date').alias('year'),\n",
    "            F.month('product_date').alias('month'),\n",
    "            col('fit_id'), \n",
    "            col('title')\n",
    "        )\n",
    ")\n",
    "dim_product.printSchema()"
   ]
  },
  {
   "cell_type": "markdown",
   "metadata": {},
   "source": [
    "The user dimension table"
   ]
  },
  {
   "cell_type": "raw",
   "metadata": {},
   "source": [
    "CREATE TABLE dim_usesr(\n",
    "    user_id Varchar Primary Key,\n",
    "    user_name Varchar\n",
    ");"
   ]
  },
  {
   "cell_type": "code",
   "execution_count": 19,
   "metadata": {},
   "outputs": [
    {
     "name": "stdout",
     "output_type": "stream",
     "text": [
      "root\n",
      " |-- user_id: string (nullable = true)\n",
      " |-- user_name: string (nullable = true)\n",
      "\n"
     ]
    }
   ],
   "source": [
    "dim_user = (\n",
    "    reviews_cleaned\n",
    "    .select(\n",
    "        'user_id', \n",
    "        col('reviewerName').alias('user_name')\n",
    "    )\n",
    ")\n",
    "dim_user.printSchema()"
   ]
  },
  {
   "cell_type": "markdown",
   "metadata": {},
   "source": [
    "The brand dim table"
   ]
  },
  {
   "cell_type": "raw",
   "metadata": {},
   "source": [
    "CREATE TABLE dim_brand(\n",
    "    brand_id Varchar,\n",
    "    brand Varchar\n",
    ");"
   ]
  },
  {
   "cell_type": "code",
   "execution_count": 20,
   "metadata": {},
   "outputs": [
    {
     "name": "stdout",
     "output_type": "stream",
     "text": [
      "root\n",
      " |-- brand_id: string (nullable = true)\n",
      " |-- brand: string (nullable = true)\n",
      "\n"
     ]
    }
   ],
   "source": [
    "dim_brand = (\n",
    "    products_cleaned\n",
    "    .select(\n",
    "        col('brand_id'),\n",
    "        col('brand')\n",
    "    )\n",
    ")\n",
    "dim_brand.printSchema()"
   ]
  },
  {
   "cell_type": "markdown",
   "metadata": {},
   "source": [
    "The category dim table"
   ]
  },
  {
   "cell_type": "raw",
   "metadata": {},
   "source": [
    "CREATE TABLE dim_category(\n",
    "    category_id Varchar,\n",
    "    category Varchar\n",
    ");"
   ]
  },
  {
   "cell_type": "code",
   "execution_count": 21,
   "metadata": {},
   "outputs": [
    {
     "name": "stdout",
     "output_type": "stream",
     "text": [
      "root\n",
      " |-- brand_id: string (nullable = true)\n",
      " |-- brand: string (nullable = true)\n",
      "\n"
     ]
    }
   ],
   "source": [
    "dim_category = (\n",
    "    products_cleaned\n",
    "    .select(\n",
    "        col('main_cat_id').alias('category_id'),\n",
    "        col('main_cat').alias('category')\n",
    "    )\n",
    ")\n",
    "dim_brand.printSchema()"
   ]
  },
  {
   "cell_type": "markdown",
   "metadata": {},
   "source": [
    "I also included a dim table for the fit data, since it provides another interesting angle of analysis. \n",
    "The fit string is provided as html table, I had initially developed a UDF to parse these tables, but seems to not scale well. \n",
    "Will leave it here for future references."
   ]
  },
  {
   "cell_type": "code",
   "execution_count": 22,
   "metadata": {},
   "outputs": [],
   "source": [
    "import lxml.html\n",
    "#\n",
    "def parse_table(s):\n",
    "    \"\"\"takes in html table, spit out a dictionary of table elements\"\"\"\n",
    "    table_root = lxml.html.fromstring(s)\n",
    "    table_list = table_root.xpath('//tr/td//span//text()')\n",
    "    table_dict = {table_list[k].strip():int(table_list[k+1]) for k in range(0, len(table_list), 2)}\n",
    "    return table_dict\n",
    "\n",
    "spark.udf.register(\"parseTable\", parse_table)\n",
    "parse_table_udf = udf(parse_table, T. MapType(T.StringType(), T.IntegerType()))"
   ]
  },
  {
   "cell_type": "raw",
   "metadata": {},
   "source": [
    "CREATE TABLE dim_fit(\n",
    "    fit_id Varchar,\n",
    "    fit Varchar\n",
    ");"
   ]
  },
  {
   "cell_type": "code",
   "execution_count": 23,
   "metadata": {},
   "outputs": [
    {
     "name": "stdout",
     "output_type": "stream",
     "text": [
      "root\n",
      " |-- fit_id: string (nullable = true)\n",
      " |-- fit: string (nullable = true)\n",
      "\n"
     ]
    }
   ],
   "source": [
    "dim_fit = (\n",
    "    products_cleaned\n",
    "    .select(\n",
    "        col('fit_id'),\n",
    "        col('fit')\n",
    "    )\n",
    ")\n",
    "dim_fit.printSchema()"
   ]
  },
  {
   "cell_type": "code",
   "execution_count": 28,
   "metadata": {
    "scrolled": true
   },
   "outputs": [
    {
     "name": "stdout",
     "output_type": "stream",
     "text": [
      "+--------------------+----------+-------+--------------------+-----------+----+-----+--------------+-------------------+--------------------+--------+-----+-----------+--------+------+\n",
      "|           review_Id|      asin|overall|         review_Text|review_Date|year|month|       user_Id|          review_TS|             summary|verified|votes|category_id|brand_id|fit_id|\n",
      "+--------------------+----------+-------+--------------------+-----------+----+-----+--------------+-------------------+--------------------+--------+-----+-----------+--------+------+\n",
      "|605e4a1939949635d...|B000FDVVF0|    5.0|Product was as-ad...| 2011-05-14|2011|    5|A3AAEKI85KYR6D|2011-05-13 17:00:00|Excellent product...|    true|    2|       null|    null|  null|\n",
      "|3ddaa237b7a05a290...|B000FDVVF0|    5.0|I write \"Hits the...| 2011-04-22|2011|    4| APGE05SC50SPL|2011-04-21 17:00:00|Hits the middle g...|    true|    5|       null|    null|  null|\n",
      "|9690a5bf06c5991cc...|B000FDVVF0|    1.0|It was easy enoug...| 2011-04-15|2011|    4|A13EUGHIYEURA3|2011-04-14 17:00:00|Impossible to ass...|    true| null|       null|    null|  null|\n",
      "|0164d8fd32e3c80ac...|B000FDVVF0|    5.0|Does the job. Gre...| 2011-03-03|2011|    3|A1Z9D7M4XW762Y|2011-03-02 16:00:00|Good product, goo...|    true|   10|       null|    null|  null|\n",
      "|b29d3542eca876d0f...|B000FDVVF0|    4.0|I have no basis f...| 2010-12-22|2010|   12| A1CSGSBOSJ83U|2010-12-21 16:00:00|Sturdy Design, We...|    true|   15|       null|    null|  null|\n",
      "|6ed313961cbbd3e29...|B000FDVVF0|    5.0|I'm not sure what...| 2016-04-28|2016|    4|A267GYCOR7L7TP|2016-04-27 17:00:00|? Construction is...|    true| null|       null|    null|  null|\n",
      "|7b36a96fb1b60294a...|B000FDVVF0|    5.0|Easy to put toget...| 2016-04-19|2016|    4|A3BS27X79QTZCX|2016-04-18 17:00:00|          Five Stars|    true| null|       null|    null|  null|\n",
      "|ddad9d9ac0fa491df...|B000FDVVF0|    5.0|It's built well a...| 2016-04-10|2016|    4|A234JTQ9X1OXKI|2016-04-09 17:00:00|   I'm happy with it|    true| null|       null|    null|  null|\n",
      "|068903f2c1f3721c3...|B000FDVVF0|    5.0|Works great and d...| 2016-02-11|2016|    2| ADBAL5CIRT101|2016-02-10 16:00:00|          Five Stars|    true| null|       null|    null|  null|\n",
      "|72385a544305c8bfe...|B000FDVVF0|    2.0|The spacing betwe...| 2016-02-03|2016|    2|A25HNJW5EHF0WW|2016-02-02 16:00:00|Spacing is small ...|    true| null|       null|    null|  null|\n",
      "|429ac92a25c3744a4...|B000FDVVF0|    5.0|The rack was very...| 2016-01-29|2016|    1| A7FYVRKIP69OJ|2016-01-28 16:00:00|The rack was very...|    true| null|       null|    null|  null|\n",
      "|17c0a61cbc07129e2...|B000FDVVF0|    3.0|Rubber coated dum...| 2016-01-17|2016|    1|A387UCM2D9BIHP|2016-01-16 16:00:00|Not all dumbbells...|    true| null|       null|    null|  null|\n",
      "|05de0e4f45a987be0...|B000FDVVF0|    5.0|handles my dumbbe...| 2016-01-01|2016|    1| AK52DE9HXZW2V|2015-12-31 16:00:00|handles my dumbbe...|    true| null|       null|    null|  null|\n",
      "|7780b3f8bd7b46e13...|B000FDVVF0|    4.0|Nice rack, easy a...| 2015-09-12|2015|    9|A1KMS4RRUZKV6P|2015-09-11 17:00:00|          Four Stars|    true| null|       null|    null|  null|\n",
      "|fbd8640ed778691c7...|B000FDVVF0|    1.0|Product itself is...| 2015-07-23|2015|    7| AWG69WROE1UXK|2015-07-22 17:00:00|Product itself is...|    true| null|       null|    null|  null|\n",
      "|d4719f165f019bb0d...|B000FDVVF0|    5.0|    Awesome products| 2015-06-23|2015|    6|A30M7AA3JTY6E7|2015-06-22 17:00:00|          Five Stars|    true| null|       null|    null|  null|\n",
      "|fa2659c75000cea23...|B000FDVVF0|    5.0|A good value for ...| 2015-05-01|2015|    5| A77QKJ0JFM36B|2015-04-30 17:00:00|          Five Stars|    true| null|       null|    null|  null|\n",
      "|56af05853f77930c2...|B000FDVVF0|    5.0|Solid, well built...| 2015-02-06|2015|    2|A2S020C8SXYEDS|2015-02-05 16:00:00|          Five Stars|    true| null|       null|    null|  null|\n",
      "|7714cde7ba651dd11...|B000FDVVF0|    5.0|Just what I was l...| 2015-01-28|2015|    1|A35HI7GA8Y0YQO|2015-01-27 16:00:00|Gym Quality Rack ...|    true| null|       null|    null|  null|\n",
      "|74b3be7d477f2f17d...|B000FDVVF0|    4.0|        As described| 2015-01-05|2015|    1|A2I9SHYWVGRNIA|2015-01-04 16:00:00|          Four Stars|    true| null|       null|    null|  null|\n",
      "+--------------------+----------+-------+--------------------+-----------+----+-----+--------------+-------------------+--------------------+--------+-----+-----------+--------+------+\n",
      "only showing top 20 rows\n",
      "\n"
     ]
    }
   ],
   "source": [
    "fact_review.show()"
   ]
  },
  {
   "cell_type": "code",
   "execution_count": 29,
   "metadata": {
    "scrolled": true
   },
   "outputs": [
    {
     "name": "stdout",
     "output_type": "stream",
     "text": [
      "+----------+--------------------+--------------------+--------------------+--------------------+-----------+----------+--------------------+------------+----+-----+------+--------------------+\n",
      "|      asin|            brand_id|         description|             details|             feature|first_price|first_rank|         category_id|product_date|year|month|fit_id|               title|\n",
      "+----------+--------------------+--------------------+--------------------+--------------------+-----------+----------+--------------------+------------+----+-----+------+--------------------+\n",
      "|B00FQUR4F8|8baeea39de5cf707a...|One of the best s...|\n",
      "      <div class...|Length: 2-1/4\" Wi...|          8|      null|9fa507308e7849891...|        null|null| null|  null|Scuba Choice Arch...|\n",
      "|B00FQV0R7O|8baeea39de5cf707a...|One of the best s...|\n",
      "      <div class...|Length: 3.5\" A co...|          7|      null|9fa507308e7849891...|        null|null| null|  null|Scuba Choice 3.5\"...|\n",
      "|B00FQV25WO|418e83d148e4c4feb...|Get back to basic...|\n",
      "      <div class...|Cotton,Polyester ...|         14|      null|9fa507308e7849891...|        null|null| null|  null|The North Face Me...|\n",
      "|B00FQV31OK|418e83d148e4c4feb...|Get back to basic...|\n",
      "      <div class...|Cotton,Polyester ...|         14|      null|9fa507308e7849891...|        null|null| null|  null|The North Face Me...|\n",
      "|B00FQV3ISY|418e83d148e4c4feb...|Get back to basic...|\n",
      "      <div class...|Cotton,Polyester ...|         14|      null|9fa507308e7849891...|        null|null| null|  null|The North Face Me...|\n",
      "|B00FQV24FW|418e83d148e4c4feb...|Get back to basic...|\n",
      "      <div class...|Cotton,Polyester ...|         14|      null|9fa507308e7849891...|        null|null| null|  null|The North Face Me...|\n",
      "|B00FQV1ZGG|0c944d4e85f8876ac...|The Aluminum Kala...|\n",
      "      <div class...|Aluminum Karambit...|         35|      null|9fa507308e7849891...|        null|null| null|  null|Aluminum Kerambit...|\n",
      "|B00FQV367W|418e83d148e4c4feb...|Get back to basic...|\n",
      "      <div class...|Cotton,Polyester ...|         14|      null|9fa507308e7849891...|        null|null| null|  null|The North Face Me...|\n",
      "|B00FQV20Q0|418e83d148e4c4feb...|Get back to basic...|\n",
      "      <div class...|Cotton,Polyester ...|         14|      null|9fa507308e7849891...|        null|null| null|  null|The North Face Me...|\n",
      "|B00FQV1WCI|4050b2c7254c63794...|2.3\" high bag to ...|\n",
      "      <div class...|2.1 Inch high 23....|          3|      null|9fa507308e7849891...|        null|null| null|  null|XLAB Stealth Pock...|\n",
      "|B00FQV3HDU|418e83d148e4c4feb...|Get back to basic...|\n",
      "      <div class...|Cotton,Polyester ...|         14|      null|9fa507308e7849891...|        null|null| null|  null|The North Face Me...|\n",
      "|B00FQUTAZK|68d667821f8254407...|NEW! Brown Leathe...|\n",
      "      <div class...|THIS HOLSTER ONLY...|         50|      null|9fa507308e7849891...|        null|null| null|  null|NEW! Brown Leathe...|\n",
      "|B00FQV3RGC|992a91880377c8b30...|7\" Helm Pod Rail ...|\n",
      "\n",
      "\n",
      "\n",
      "\n",
      "    <div cla...|                    |        282|      null|9fa507308e7849891...|        null|null| null|  null|Scanpod 7\" Helm P...|\n",
      "|B00FQV3K96|418e83d148e4c4feb...|Get back to basic...|\n",
      "      <div class...|Cotton,Polyester ...|         14|      null|9fa507308e7849891...|        null|null| null|  null|The North Face Me...|\n",
      "|B00FQV3OCY|418e83d148e4c4feb...|Get back to basic...|\n",
      "      <div class...|Cotton,Polyester ...|         14|      null|9fa507308e7849891...|        null|null| null|  null|The North Face Me...|\n",
      "|B00FQVZ7VK|45e1e3e71ed2fd4e1...| Watcher T-Shirt ...|                null|WATCHER LOGO SS S...|       null|      null|                null|  2012-12-30|2012|   12|  null|5.11 Watcher Logo...|\n",
      "|B00FQV8O8I|                null|                    |\n",
      "      <div class...|                    |       null|      null|9fa507308e7849891...|        null|null| null|  null|Nike Kids Jordan ...|\n",
      "|B00FQW16AU|cce7668153f0c4c04...|Gerbing heated fl...|\n",
      "      <div class...|Gerbing 7V Batter...|        102|      null|9fa507308e7849891...|        null|null| null|  null|Gerbing 7V Batter...|\n",
      "|B00FQW16AA|cce7668153f0c4c04...|Gerbing heated fl...|\n",
      "      <div class...|Gerbing 7V Batter...|        102|      null|9fa507308e7849891...|        null|null| null|  null|Gerbing 7V Batter...|\n",
      "|B00FQW1ZW4|3bdc7e229b05bc9e9...|The Solar Powered...|                null|Imported Men's Bl...|       null|      null|                null|        null|null| null|  null|Casio Men's Pro T...|\n",
      "+----------+--------------------+--------------------+--------------------+--------------------+-----------+----------+--------------------+------------+----+-----+------+--------------------+\n",
      "only showing top 20 rows\n",
      "\n"
     ]
    }
   ],
   "source": [
    "dim_product.show()"
   ]
  },
  {
   "cell_type": "code",
   "execution_count": 30,
   "metadata": {},
   "outputs": [
    {
     "name": "stdout",
     "output_type": "stream",
     "text": [
      "+--------------+--------------------+\n",
      "|       user_id|           user_name|\n",
      "+--------------+--------------------+\n",
      "|A2NCK6EQTR2M3U|           Bikenmike|\n",
      "| A1NLA4BIBEY5G|        J. Nicholson|\n",
      "| AWMGBGFW2TIFA|          D.R. of IL|\n",
      "|A1SDMTG1OKI27M|                Skye|\n",
      "|A1C1AE4YLCLFDZ|          Jed Kelson|\n",
      "|A2XNQIEI1YEJFN|           Ryan Carr|\n",
      "|A1BMF7OAXSP4L2|                Seth|\n",
      "|A3LT3K6E0Q7JO4|    Rebecca Wolinski|\n",
      "| AOI2NMASX8QJX|   Fil&#039;s review|\n",
      "|A1Q272JSV2BDML|DarklyDreamingDexter|\n",
      "|A3Q1942ZWO9BJY|             Francis|\n",
      "|A13WD26BXDOOBL|    Randall Batridge|\n",
      "|A37ZQ3KP44OLKA|      C. Comperatore|\n",
      "| AUPLRWWSBQHQB|      Alex Churchill|\n",
      "|A2W3N6LQCZOBBV|        Sean Sampson|\n",
      "|A2LZCCWR6MDA0D|               Bowen|\n",
      "| AFBZ7G9XOJQR5|             ambschi|\n",
      "| AE0G2J5UD328R|              Delcio|\n",
      "| A5B4BPLRX110P|              amarot|\n",
      "|A20BODDLOJMVQB|George T. Chamber...|\n",
      "+--------------+--------------------+\n",
      "only showing top 20 rows\n",
      "\n"
     ]
    }
   ],
   "source": [
    "dim_user.show()"
   ]
  },
  {
   "cell_type": "code",
   "execution_count": 31,
   "metadata": {},
   "outputs": [
    {
     "name": "stdout",
     "output_type": "stream",
     "text": [
      "+--------------------+--------------+\n",
      "|            brand_id|         brand|\n",
      "+--------------------+--------------+\n",
      "|8baeea39de5cf707a...|  Scuba Choice|\n",
      "|8baeea39de5cf707a...|  Scuba Choice|\n",
      "|418e83d148e4c4feb...|The North Face|\n",
      "|418e83d148e4c4feb...|The North Face|\n",
      "|418e83d148e4c4feb...|The North Face|\n",
      "|418e83d148e4c4feb...|The North Face|\n",
      "|0c944d4e85f8876ac...|  Kalaj Kutter|\n",
      "|418e83d148e4c4feb...|The North Face|\n",
      "|418e83d148e4c4feb...|The North Face|\n",
      "|4050b2c7254c63794...|          XLAB|\n",
      "|418e83d148e4c4feb...|The North Face|\n",
      "|68d667821f8254407...|  GUNS4US Inc.|\n",
      "|992a91880377c8b30...|       Scanpod|\n",
      "|418e83d148e4c4feb...|The North Face|\n",
      "|418e83d148e4c4feb...|The North Face|\n",
      "|45e1e3e71ed2fd4e1...|          5.11|\n",
      "|                null|          null|\n",
      "|cce7668153f0c4c04...|       Gerbing|\n",
      "|cce7668153f0c4c04...|       Gerbing|\n",
      "|3bdc7e229b05bc9e9...|         Casio|\n",
      "+--------------------+--------------+\n",
      "only showing top 20 rows\n",
      "\n"
     ]
    }
   ],
   "source": [
    "dim_brand.show()"
   ]
  },
  {
   "cell_type": "code",
   "execution_count": 32,
   "metadata": {},
   "outputs": [
    {
     "name": "stdout",
     "output_type": "stream",
     "text": [
      "+--------------------+-----------------+\n",
      "|         category_id|         category|\n",
      "+--------------------+-----------------+\n",
      "|9fa507308e7849891...|Sports & Outdoors|\n",
      "|9fa507308e7849891...|Sports & Outdoors|\n",
      "|9fa507308e7849891...|Sports & Outdoors|\n",
      "|9fa507308e7849891...|Sports & Outdoors|\n",
      "|9fa507308e7849891...|Sports & Outdoors|\n",
      "|9fa507308e7849891...|Sports & Outdoors|\n",
      "|9fa507308e7849891...|Sports & Outdoors|\n",
      "|9fa507308e7849891...|Sports & Outdoors|\n",
      "|9fa507308e7849891...|Sports & Outdoors|\n",
      "|9fa507308e7849891...|Sports & Outdoors|\n",
      "|9fa507308e7849891...|Sports & Outdoors|\n",
      "|9fa507308e7849891...|Sports & Outdoors|\n",
      "|9fa507308e7849891...|Sports & Outdoors|\n",
      "|9fa507308e7849891...|Sports & Outdoors|\n",
      "|9fa507308e7849891...|Sports & Outdoors|\n",
      "|                null|             null|\n",
      "|9fa507308e7849891...|Sports & Outdoors|\n",
      "|9fa507308e7849891...|Sports & Outdoors|\n",
      "|9fa507308e7849891...|Sports & Outdoors|\n",
      "|                null|             null|\n",
      "+--------------------+-----------------+\n",
      "only showing top 20 rows\n",
      "\n"
     ]
    }
   ],
   "source": [
    "dim_category.show()"
   ]
  },
  {
   "cell_type": "code",
   "execution_count": 33,
   "metadata": {
    "scrolled": true
   },
   "outputs": [
    {
     "name": "stdout",
     "output_type": "stream",
     "text": [
      "+------+----+\n",
      "|fit_id| fit|\n",
      "+------+----+\n",
      "|  null|null|\n",
      "|  null|null|\n",
      "|  null|null|\n",
      "|  null|null|\n",
      "|  null|null|\n",
      "|  null|null|\n",
      "|  null|null|\n",
      "|  null|null|\n",
      "|  null|null|\n",
      "|  null|null|\n",
      "|  null|null|\n",
      "|  null|null|\n",
      "|  null|null|\n",
      "|  null|null|\n",
      "|  null|null|\n",
      "|  null|null|\n",
      "|  null|null|\n",
      "|  null|null|\n",
      "|  null|null|\n",
      "|  null|null|\n",
      "+------+----+\n",
      "only showing top 20 rows\n",
      "\n"
     ]
    }
   ],
   "source": [
    "dim_fit.show()"
   ]
  },
  {
   "cell_type": "markdown",
   "metadata": {},
   "source": [
    "### Step 4: Run Pipelines to Model the Data \n",
    "#### 4.1 Create the data model\n",
    "Build the data pipelines to create the data model."
   ]
  },
  {
   "cell_type": "code",
   "execution_count": null,
   "metadata": {
    "scrolled": true
   },
   "outputs": [],
   "source": [
    "output_data = \"s3a://capstone-zwmtrue/data-model\"\n",
    "fact_review.write.partitionBy('year','month').parquet(output_data + \"review.parquet\", mode=\"overwrite\")"
   ]
  },
  {
   "cell_type": "code",
   "execution_count": null,
   "metadata": {},
   "outputs": [],
   "source": [
    "dim_product.write.partitionBy('year','month').parquet(output_data + \"product.parquet\", mode=\"overwrite\")"
   ]
  },
  {
   "cell_type": "code",
   "execution_count": null,
   "metadata": {},
   "outputs": [],
   "source": [
    "dim_user.write.parquet(output_data + \"user.parquet\", mode=\"overwrite\")"
   ]
  },
  {
   "cell_type": "code",
   "execution_count": null,
   "metadata": {},
   "outputs": [],
   "source": [
    "dim_brand.write.parquet(output_data + \"brand.parquet\", mode=\"overwrite\")"
   ]
  },
  {
   "cell_type": "code",
   "execution_count": null,
   "metadata": {},
   "outputs": [],
   "source": [
    "dim_category.write.parquet(output_data + \"category.parquet\", mode=\"overwrite\")"
   ]
  },
  {
   "cell_type": "code",
   "execution_count": null,
   "metadata": {},
   "outputs": [],
   "source": [
    "dim_fit.write.parquet(output_data + \"fit.parquet\", mode=\"overwrite\")"
   ]
  },
  {
   "cell_type": "markdown",
   "metadata": {},
   "source": [
    "#### 4.2 Data Quality Checks\n",
    "\n",
    "The original data does however include many nulls. "
   ]
  },
  {
   "cell_type": "code",
   "execution_count": null,
   "metadata": {},
   "outputs": [],
   "source": [
    "fact_review.count()"
   ]
  },
  {
   "cell_type": "code",
   "execution_count": null,
   "metadata": {},
   "outputs": [],
   "source": [
    "fact_review.printSchema()"
   ]
  },
  {
   "cell_type": "code",
   "execution_count": null,
   "metadata": {},
   "outputs": [],
   "source": [
    "dim_product.count()"
   ]
  },
  {
   "cell_type": "markdown",
   "metadata": {},
   "source": [
    "#### 4.2 Data dictionary \n",
    "\n",
    "review_id: ID of review\n",
    "\n",
    "asin/product_Id: ASIN (Amazon Standard Inventory Number)\n",
    "\n",
    "overall: Producting score (1-5)\n",
    "\n",
    "reviewText: Text content of review\n",
    "\n",
    "review_Date: Date of review\n",
    "\n",
    "user_Id: Reviewer ID\n",
    "\n",
    "user_name: Reviewer Name\n",
    "\n",
    "summary: Summary of user review \n",
    "\n",
    "review_TS: Timestamp of review in mms\n",
    "\n",
    "verified: Verified purchase\n",
    "\n",
    "votes: Number of vote for this review\n",
    "\n",
    "category_id: ID of product's main category\n",
    "\n",
    "category: Strings of product main category. A product can be of many cateogries I choose to just keep the main one for simplicity.\n",
    "\n",
    "brand_id: ID of product's brand\n",
    "\n",
    "fit_id: ID of product's fit statistics. \n",
    "\n",
    "fit: HTML table of product's fit statistics, needs to be further processed.\n",
    "\n",
    "description: Product description\n",
    "\n",
    "details: Details of product \n",
    "\n",
    "feature: Feature of product\n",
    "\n"
   ]
  },
  {
   "cell_type": "markdown",
   "metadata": {},
   "source": [
    "#### Step 5: Complete Project Write Up\n",
    "\n",
    "Spark seems to be the ideal tool for this project, I have been wanting to try it out and although there're limitations to the framework, it proves to be very efficient both in performance and the amount of code it takes to perform the task I faced.\n",
    "\n",
    "This data should probably updated in an annual or semi-annual frequency, since product reviews don't happen very often for the majority of items.\n",
    "\n",
    "If data is increased by 100 fold, we will need run this ETL Process in batches using spark clusters.\n",
    "\n",
    "For multiple access, we should consider write the parquets to HDFS."
   ]
  }
 ],
 "metadata": {
  "kernelspec": {
   "display_name": "Python 3",
   "language": "python",
   "name": "python3"
  },
  "language_info": {
   "codemirror_mode": {
    "name": "ipython",
    "version": 3
   },
   "file_extension": ".py",
   "mimetype": "text/x-python",
   "name": "python",
   "nbconvert_exporter": "python",
   "pygments_lexer": "ipython3",
   "version": "3.7.4"
  }
 },
 "nbformat": 4,
 "nbformat_minor": 4
}
