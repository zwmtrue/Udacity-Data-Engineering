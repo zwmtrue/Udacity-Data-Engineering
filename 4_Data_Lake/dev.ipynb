{
 "cells": [
  {
   "cell_type": "markdown",
   "metadata": {},
   "source": [
    "This is a notebook for quick development and testing"
   ]
  },
  {
   "cell_type": "markdown",
   "metadata": {},
   "source": [
    "In this project, we use Spark and data lakes to build an ETL pipeline for a data lake hosted on S3 for music streaming startup Sparkify.\n",
    "  \n",
    "The datasets include the Song Dataset and Log Dataset.  \n",
    "\n",
    "Output tables include  \n",
    "\n",
    "- Fact Table  \n",
    "1. songplays - records in log data associated with song plays i.e. records with page NextSong  \n",
    "songplay_id, start_time, user_id, level, song_id, artist_id, session_id, location, user_agent\n",
    "\n",
    "- Dimension Tables  \n",
    "1. users - users in the app  \n",
    "user_id, first_name, last_name, gender, level\n",
    "  \n",
    "2. songs - songs in music database  \n",
    "song_id, title, artist_id, year, duration  \n",
    "\n",
    "3. artists - artists in music database  \n",
    "artist_id, name, location, lattitude, longitude  \n",
    "  \n",
    "4. time - timestamps of records in songplays broken down into specific units  \n",
    "start_time, hour, day, week, month, year, weekday"
   ]
  },
  {
   "cell_type": "code",
   "execution_count": 1,
   "metadata": {},
   "outputs": [],
   "source": [
    "import configparser\n",
    "from datetime import datetime\n",
    "import os\n",
    "from pyspark.sql import SparkSession\n",
    "from pyspark.sql.functions import udf, col, from_unixtime, to_timestamp\n",
    "from pyspark.sql.functions import year, month, dayofmonth, hour, weekofyear, date_format\n",
    "from pyspark.sql.context import SQLContext\n",
    "from pyspark.sql import functions as F\n",
    "from pyspark.sql import types as T\n",
    "\n",
    "config = configparser.ConfigParser()\n",
    "config.read('dl.cfg')\n",
    "\n",
    "os.environ['AWS_ACCESS_KEY_ID']=config['aws']['AWS_ACCESS_KEY_ID']\n",
    "os.environ['AWS_SECRET_ACCESS_KEY']=config['aws']['AWS_SECRET_ACCESS_KEY']"
   ]
  },
  {
   "cell_type": "code",
   "execution_count": 2,
   "metadata": {},
   "outputs": [
    {
     "data": {
      "text/html": [
       "\n",
       "            <div>\n",
       "                <p><b>SparkSession - in-memory</b></p>\n",
       "                \n",
       "        <div>\n",
       "            <p><b>SparkContext</b></p>\n",
       "\n",
       "            <p><a href=\"http://c3ef1f3cbc7c:4040\">Spark UI</a></p>\n",
       "\n",
       "            <dl>\n",
       "              <dt>Version</dt>\n",
       "                <dd><code>v2.4.3</code></dd>\n",
       "              <dt>Master</dt>\n",
       "                <dd><code>local[*]</code></dd>\n",
       "              <dt>AppName</dt>\n",
       "                <dd><code>pyspark-shell</code></dd>\n",
       "            </dl>\n",
       "        </div>\n",
       "        \n",
       "            </div>\n",
       "        "
      ],
      "text/plain": [
       "<pyspark.sql.session.SparkSession at 0x7fdb3495dfd0>"
      ]
     },
     "execution_count": 2,
     "metadata": {},
     "output_type": "execute_result"
    }
   ],
   "source": [
    "def create_spark_session():\n",
    "    spark = SparkSession \\\n",
    "        .builder \\\n",
    "        .config(\"spark.jars.packages\", \"org.apache.hadoop:hadoop-aws:2.7.0\") \\\n",
    "        .getOrCreate()\n",
    "    return spark\n",
    "spark = create_spark_session()\n",
    "spark"
   ]
  },
  {
   "cell_type": "code",
   "execution_count": 3,
   "metadata": {},
   "outputs": [
    {
     "name": "stdout",
     "output_type": "stream",
     "text": [
      "CPU times: user 3 µs, sys: 0 ns, total: 3 µs\n",
      "Wall time: 6.68 µs\n"
     ]
    }
   ],
   "source": [
    "input_data = \"s3a://udacity-dend/song-data/A/A/C/*.json\"\n",
    "df1 = spark.read.json(input_data)\n",
    "%time"
   ]
  },
  {
   "cell_type": "code",
   "execution_count": 4,
   "metadata": {},
   "outputs": [],
   "source": [
    "dfsong = df1.withColumnRenamed(\"name\",\"artist_name\")"
   ]
  },
  {
   "cell_type": "markdown",
   "metadata": {},
   "source": [
    "songs table: song_id, title, artist_id, year, duration"
   ]
  },
  {
   "cell_type": "code",
   "execution_count": 5,
   "metadata": {},
   "outputs": [
    {
     "name": "stdout",
     "output_type": "stream",
     "text": [
      "+------------------+--------------------+------------------+----+---------+\n",
      "|           song_id|               title|         artist_id|year| duration|\n",
      "+------------------+--------------------+------------------+----+---------+\n",
      "|SOBBUGU12A8C13E95D|Setting Fire to S...|ARMAC4T1187FB3FA4C|2004|207.77751|\n",
      "|SONYPOM12A8C13B2D7|I Think My Wife I...|ARDNS031187B9924F0|2005|186.48771|\n",
      "|SODIWID12A6D4F803A|Lucille (1999 Dig...|ARGS47D1187FB40225|   0|127.97342|\n",
      "|SOLLHMX12AB01846DC|   The Emperor Falls|AR1Y2PT1187FB5B9CE|   0|484.62322|\n",
      "|SOIGIVK12AB018E9AA|             Ionized|ARNCNV91187FB4D552|1996|444.83873|\n",
      "|SOAFBKM12AB01837A7|          Brain Dead|ARL14X91187FB4CF14|1995| 94.22322|\n",
      "|SOEBWSU12AB018377B|      Sane As Can Be|ARDTIOA1187B99E779|2000|105.87383|\n",
      "|SOWCWAD12AB017FD51|     Memories & Rust|ARPLTRF11E8F5C15C5|   0|222.82404|\n",
      "|SOTCOTZ12A8C136BCB|            Elevator|AR7WK5411A348EF5EA|2008|248.31955|\n",
      "|SOMZZON12A6701D3B9|My Lady (2003 Dig...|ARKUI581187B9A6856|1997|162.40281|\n",
      "|SOAOJYY12A58A7B2F9|         Not For You|ARFVYJI1187B9B8E13|1994|352.88771|\n",
      "|SOLRWTN12AC90719FF|      Double Feature|ARL26PR1187FB576E5|   0|350.32771|\n",
      "|SOEAXKZ12A81C208DA|         Just A Girl|ARJP2NO1187FB3AFB9|1999|256.39138|\n",
      "|SOMUUNK12AB0183AEE|             Seaweed|ARIRBKB1187FB56CD0|2004|218.95791|\n",
      "|SOUSWJP12A6D4FBCFF|         Dr. Rudeboy|ARCTL0M1187FB5CEC7|   0|266.55302|\n",
      "|SORUZFR12AB01866C1|     Hypnotic Trance|ARZJDBC1187FB52056|1987|280.37179|\n",
      "|SOBIODA12A8C13CDAD|   Cradle the Crater|ARNUJQM1187FB3EE72|2007|258.29832|\n",
      "|SOCKYOP12A58A7C4EC|               Drama|AROJWW21187FB574E6|2003|195.02975|\n",
      "|SOYOWPX12AB018B46C|          Green Door|ARKULHT11C8A415E71|2009|198.19057|\n",
      "|SOYTPEP12AB0180E7B|     Twist and Shout|ARAJPHH1187FB5566A|1964|164.80608|\n",
      "+------------------+--------------------+------------------+----+---------+\n",
      "only showing top 20 rows\n",
      "\n"
     ]
    }
   ],
   "source": [
    "songs_table = dfsong.select(*['song_id', 'title', 'artist_id', 'year','duration']).distinct()\n",
    "songs_table.show()"
   ]
  },
  {
   "cell_type": "code",
   "execution_count": 6,
   "metadata": {},
   "outputs": [],
   "source": [
    "output_data = \"s3a://de-zwmtrue/data-lake/\"\n",
    "songs_table.write.partitionBy('year','artist_id').parquet(output_data + \"songs.parquet\", mode=\"overwrite\")"
   ]
  },
  {
   "cell_type": "markdown",
   "metadata": {},
   "source": [
    "artists : artist_id, name, location, lattitude, longitude"
   ]
  },
  {
   "cell_type": "code",
   "execution_count": 7,
   "metadata": {},
   "outputs": [],
   "source": [
    "artists_table = dfsong['artist_id','artist_name','artist_location', 'artist_latitude', 'artist_longitude'].\\\n",
    "    distinct().withColumnRenamed(\"artist_name\",\"name\").\\\n",
    "    withColumnRenamed(\"artist_location\",\"location\").\\\n",
    "    withColumnRenamed(\"artist_lattitude\",\"lattitude\").\\\n",
    "    withColumnRenamed(\"artist_longitude\",\"longitude\")"
   ]
  },
  {
   "cell_type": "code",
   "execution_count": 8,
   "metadata": {},
   "outputs": [],
   "source": [
    "artists_table = artists_table.distinct()"
   ]
  },
  {
   "cell_type": "code",
   "execution_count": 9,
   "metadata": {},
   "outputs": [],
   "source": [
    "artists_table.write.parquet(output_data + \"artists.parquet\", mode=\"overwrite\")"
   ]
  },
  {
   "cell_type": "code",
   "execution_count": 10,
   "metadata": {},
   "outputs": [],
   "source": [
    "input_data = \"s3a://udacity-dend/log-data/2018/11/*.json\"\n",
    "dflog = spark.read.json(input_data)"
   ]
  },
  {
   "cell_type": "code",
   "execution_count": 11,
   "metadata": {},
   "outputs": [
    {
     "data": {
      "text/plain": [
       "['artist',\n",
       " 'auth',\n",
       " 'firstName',\n",
       " 'gender',\n",
       " 'itemInSession',\n",
       " 'lastName',\n",
       " 'length',\n",
       " 'level',\n",
       " 'location',\n",
       " 'method',\n",
       " 'page',\n",
       " 'registration',\n",
       " 'sessionId',\n",
       " 'song',\n",
       " 'status',\n",
       " 'ts',\n",
       " 'userAgent',\n",
       " 'userId']"
      ]
     },
     "execution_count": 11,
     "metadata": {},
     "output_type": "execute_result"
    }
   ],
   "source": [
    "dflog.columns"
   ]
  },
  {
   "cell_type": "code",
   "execution_count": 12,
   "metadata": {},
   "outputs": [],
   "source": [
    "dflog = dflog.where(dflog[\"page\"] == 'NextSong')"
   ]
  },
  {
   "cell_type": "code",
   "execution_count": 13,
   "metadata": {},
   "outputs": [],
   "source": [
    "users_table = dflog.select(\n",
    "            col('userId').alias('user_id'),\n",
    "            col('firstName').alias('first_name'),\n",
    "            col('lastName').alias('last_name'),\n",
    "            col('gender').alias('gender'),\n",
    "            col('level').alias('level')\n",
    "        ).distinct()"
   ]
  },
  {
   "cell_type": "code",
   "execution_count": 14,
   "metadata": {},
   "outputs": [],
   "source": [
    "get_timestamp = udf(lambda ms: datetime.fromtimestamp(ms/1000.0), T.TimestampType())"
   ]
  },
  {
   "cell_type": "code",
   "execution_count": 15,
   "metadata": {},
   "outputs": [],
   "source": [
    "dflog=dflog.withColumn(\"ts_timestamp\",get_timestamp(dflog.ts))"
   ]
  },
  {
   "cell_type": "code",
   "execution_count": 16,
   "metadata": {},
   "outputs": [
    {
     "name": "stdout",
     "output_type": "stream",
     "text": [
      "+--------------------+---------+---------+------+-------------+--------+---------+-----+--------------------+------+--------+-----------------+---------+--------------------+------+-------------+--------------------+------+--------------------+\n",
      "|              artist|     auth|firstName|gender|itemInSession|lastName|   length|level|            location|method|    page|     registration|sessionId|                song|status|           ts|           userAgent|userId|        ts_timestamp|\n",
      "+--------------------+---------+---------+------+-------------+--------+---------+-----+--------------------+------+--------+-----------------+---------+--------------------+------+-------------+--------------------+------+--------------------+\n",
      "|            Harmonia|Logged In|     Ryan|     M|            0|   Smith|655.77751| free|San Jose-Sunnyval...|   PUT|NextSong|1.541016707796E12|      583|       Sehr kosmisch|   200|1542241826796|\"Mozilla/5.0 (X11...|    26|2018-11-15 00:30:...|\n",
      "|         The Prodigy|Logged In|     Ryan|     M|            1|   Smith|260.07465| free|San Jose-Sunnyval...|   PUT|NextSong|1.541016707796E12|      583|     The Big Gundown|   200|1542242481796|\"Mozilla/5.0 (X11...|    26|2018-11-15 00:41:...|\n",
      "|               Train|Logged In|     Ryan|     M|            2|   Smith|205.45261| free|San Jose-Sunnyval...|   PUT|NextSong|1.541016707796E12|      583|            Marry Me|   200|1542242741796|\"Mozilla/5.0 (X11...|    26|2018-11-15 00:45:...|\n",
      "|         Sony Wonder|Logged In|   Samuel|     M|            0|Gonzalez|218.06975| free|Houston-The Woodl...|   PUT|NextSong|1.540492941796E12|      597|           Blackbird|   200|1542253449796|\"Mozilla/5.0 (Mac...|    61|2018-11-15 03:44:...|\n",
      "|           Van Halen|Logged In|    Tegan|     F|            2|  Levine|289.38404| paid|Portland-South Po...|   PUT|NextSong|1.540794356796E12|      602|Best Of Both Worl...|   200|1542260935796|\"Mozilla/5.0 (Mac...|    80|2018-11-15 05:48:...|\n",
      "|           Magic Sam|Logged In|    Tegan|     F|            3|  Levine|132.04853| paid|Portland-South Po...|   PUT|NextSong|1.540794356796E12|      602|Call Me If You Ne...|   200|1542261224796|\"Mozilla/5.0 (Mac...|    80|2018-11-15 05:53:...|\n",
      "|Edward Sharpe & T...|Logged In|    Tegan|     F|            4|  Levine|306.31138| paid|Portland-South Po...|   PUT|NextSong|1.540794356796E12|      602|                Home|   200|1542261356796|\"Mozilla/5.0 (Mac...|    80|2018-11-15 05:55:...|\n",
      "|Usher featuring w...|Logged In|    Tegan|     F|            5|  Levine|395.72853| paid|Portland-South Po...|   PUT|NextSong|1.540794356796E12|      602|                 OMG|   200|1542261662796|\"Mozilla/5.0 (Mac...|    80|2018-11-15 06:01:...|\n",
      "|         Helen Reddy|Logged In|    Tegan|     F|            7|  Levine|176.50893| paid|Portland-South Po...|   PUT|NextSong|1.540794356796E12|      602| Candle On The Water|   200|1542262057796|\"Mozilla/5.0 (Mac...|    80|2018-11-15 06:07:...|\n",
      "|        Taylor Swift|Logged In|    Tegan|     F|            8|  Levine|201.06404| paid|Portland-South Po...|   PUT|NextSong|1.540794356796E12|      602|            Our Song|   200|1542262233796|\"Mozilla/5.0 (Mac...|    80|2018-11-15 06:10:...|\n",
      "|           Sean Paul|Logged In|    Tegan|     F|            9|  Levine|245.34159| paid|Portland-South Po...|   PUT|NextSong|1.540794356796E12|      602|Baby Boy [feat. B...|   200|1542262434796|\"Mozilla/5.0 (Mac...|    80|2018-11-15 06:13:...|\n",
      "|         Soundgarden|Logged In|     Lily|     F|            0|    Koch|272.19546| paid|Chicago-Napervill...|   PUT|NextSong|1.541048010796E12|      582|      Black Hole Sun|   200|1542262456796|\"Mozilla/5.0 (X11...|    15|2018-11-15 06:14:...|\n",
      "|         The Killers|Logged In|    Tegan|     F|           10|  Levine|360.75057| paid|Portland-South Po...|   PUT|NextSong|1.540794356796E12|      602|               Human|   200|1542262679796|\"Mozilla/5.0 (Mac...|    80|2018-11-15 06:17:...|\n",
      "|       Amy Winehouse|Logged In|     Lily|     F|            1|    Koch|165.11955| paid|Chicago-Napervill...|   PUT|NextSong|1.541048010796E12|      582|            Addicted|   200|1542262728796|\"Mozilla/5.0 (X11...|    15|2018-11-15 06:18:...|\n",
      "|      Steve Anderson|Logged In|     Lily|     F|            2|    Koch|265.06404| paid|Chicago-Napervill...|   PUT|NextSong|1.541048010796E12|      582|                 Air|   200|1542262893796|\"Mozilla/5.0 (X11...|    15|2018-11-15 06:21:...|\n",
      "|          Rob Zombie|Logged In|     Lily|     F|            3|    Koch|220.13342| paid|Chicago-Napervill...|   PUT|NextSong|1.541048010796E12|      582|          Superbeast|   200|1542263158796|\"Mozilla/5.0 (X11...|    15|2018-11-15 06:25:...|\n",
      "|  Deadmau5 & Kaskade|Logged In|     Lily|     F|            4|    Koch|595.56526| paid|Chicago-Napervill...|   PUT|NextSong|1.541048010796E12|      582|          I Remember|   200|1542263378796|\"Mozilla/5.0 (X11...|    15|2018-11-15 06:29:...|\n",
      "|        Shania Twain|Logged In|     Ryan|     M|            0|   Smith| 213.7073| free|San Jose-Sunnyval...|   PUT|NextSong|1.541016707796E12|      607|Don't Be Stupid (...|   200|1542265716796|\"Mozilla/5.0 (X11...|    26|2018-11-15 07:08:...|\n",
      "|      Los Campesinos|Logged In|     Ryan|     M|            1|   Smith|138.10893| free|San Jose-Sunnyval...|   PUT|NextSong|1.541016707796E12|      607|We throw parties_...|   200|1542265929796|\"Mozilla/5.0 (X11...|    26|2018-11-15 07:12:...|\n",
      "|            Ill Nino|Logged In|    Chloe|     F|            1|  Cuevas| 188.9171| paid|San Francisco-Oak...|   PUT|NextSong|1.540940782796E12|      606|How Can I Live (S...|   200|1542266927796|Mozilla/5.0 (Wind...|    49|2018-11-15 07:28:...|\n",
      "+--------------------+---------+---------+------+-------------+--------+---------+-----+--------------------+------+--------+-----------------+---------+--------------------+------+-------------+--------------------+------+--------------------+\n",
      "only showing top 20 rows\n",
      "\n"
     ]
    }
   ],
   "source": [
    "dflog.show()"
   ]
  },
  {
   "cell_type": "code",
   "execution_count": 17,
   "metadata": {},
   "outputs": [],
   "source": [
    "time_table = (\n",
    "    dflog.withColumn('hour', hour(col('ts_timestamp')))\n",
    "        .withColumn('day', dayofmonth(col('ts_timestamp')))\n",
    "        .withColumn('week', weekofyear(col('ts_timestamp')))\n",
    "        .withColumn('month', month(col('ts_timestamp')))\n",
    "        .withColumn('year', year(col('ts_timestamp')))\n",
    "        .select(col(\"hour\"),\n",
    "            col(\"day\"),\n",
    "            col(\"week\"),\n",
    "            col(\"month\"),\n",
    "            col(\"year\"),\n",
    "            date_format('ts_timestamp', 'EEEE').alias('week_day')\n",
    "               )\n",
    "        )"
   ]
  },
  {
   "cell_type": "code",
   "execution_count": 18,
   "metadata": {},
   "outputs": [
    {
     "name": "stdout",
     "output_type": "stream",
     "text": [
      "+----+---+----+-----+----+--------+\n",
      "|hour|day|week|month|year|week_day|\n",
      "+----+---+----+-----+----+--------+\n",
      "|   0| 15|  46|   11|2018|Thursday|\n",
      "|   0| 15|  46|   11|2018|Thursday|\n",
      "|   0| 15|  46|   11|2018|Thursday|\n",
      "|   3| 15|  46|   11|2018|Thursday|\n",
      "|   5| 15|  46|   11|2018|Thursday|\n",
      "|   5| 15|  46|   11|2018|Thursday|\n",
      "|   5| 15|  46|   11|2018|Thursday|\n",
      "|   6| 15|  46|   11|2018|Thursday|\n",
      "|   6| 15|  46|   11|2018|Thursday|\n",
      "|   6| 15|  46|   11|2018|Thursday|\n",
      "|   6| 15|  46|   11|2018|Thursday|\n",
      "|   6| 15|  46|   11|2018|Thursday|\n",
      "|   6| 15|  46|   11|2018|Thursday|\n",
      "|   6| 15|  46|   11|2018|Thursday|\n",
      "|   6| 15|  46|   11|2018|Thursday|\n",
      "|   6| 15|  46|   11|2018|Thursday|\n",
      "|   6| 15|  46|   11|2018|Thursday|\n",
      "|   7| 15|  46|   11|2018|Thursday|\n",
      "|   7| 15|  46|   11|2018|Thursday|\n",
      "|   7| 15|  46|   11|2018|Thursday|\n",
      "+----+---+----+-----+----+--------+\n",
      "only showing top 20 rows\n",
      "\n"
     ]
    }
   ],
   "source": [
    "time_table.show()"
   ]
  },
  {
   "cell_type": "code",
   "execution_count": 19,
   "metadata": {},
   "outputs": [],
   "source": [
    "songs_df = spark.read.option(\"mergeSchema\", \"true\").parquet(output_data + \"songs.parquet\")"
   ]
  },
  {
   "cell_type": "code",
   "execution_count": 20,
   "metadata": {},
   "outputs": [
    {
     "name": "stdout",
     "output_type": "stream",
     "text": [
      "+------------------+--------------------+---------+----+------------------+\n",
      "|           song_id|               title| duration|year|         artist_id|\n",
      "+------------------+--------------------+---------+----+------------------+\n",
      "|SONYPOM12A8C13B2D7|I Think My Wife I...|186.48771|2005|ARDNS031187B9924F0|\n",
      "|SODIWID12A6D4F803A|Lucille (1999 Dig...|127.97342|   0|ARGS47D1187FB40225|\n",
      "|SOBBUGU12A8C13E95D|Setting Fire to S...|207.77751|2004|ARMAC4T1187FB3FA4C|\n",
      "|SOMZZON12A6701D3B9|My Lady (2003 Dig...|162.40281|1997|ARKUI581187B9A6856|\n",
      "|SOQXJID12A8AE456CD| Domingo astronómico|264.69832|2005|ARBJ3VU1187B9B472D|\n",
      "|SOBIODA12A8C13CDAD|   Cradle the Crater|258.29832|2007|ARNUJQM1187FB3EE72|\n",
      "|SOLLHMX12AB01846DC|   The Emperor Falls|484.62322|   0|AR1Y2PT1187FB5B9CE|\n",
      "|SOYTPEP12AB0180E7B|     Twist and Shout|164.80608|1964|ARAJPHH1187FB5566A|\n",
      "|SORUZFR12AB01866C1|     Hypnotic Trance|280.37179|1987|ARZJDBC1187FB52056|\n",
      "|SOWCWAD12AB017FD51|     Memories & Rust|222.82404|   0|ARPLTRF11E8F5C15C5|\n",
      "|SOEBWSU12AB018377B|      Sane As Can Be|105.87383|2000|ARDTIOA1187B99E779|\n",
      "|SOLRWTN12AC90719FF|      Double Feature|350.32771|   0|ARL26PR1187FB576E5|\n",
      "|SOZCTXZ12AB0182364|      Setanta matins|269.58322|   0|AR5KOSW1187FB35FF4|\n",
      "|SOUSWJP12A6D4FBCFF|         Dr. Rudeboy|266.55302|   0|ARCTL0M1187FB5CEC7|\n",
      "|SOEAXKZ12A81C208DA|         Just A Girl|256.39138|1999|ARJP2NO1187FB3AFB9|\n",
      "|SOAOJYY12A58A7B2F9|         Not For You|352.88771|1994|ARFVYJI1187B9B8E13|\n",
      "|SOYOWPX12AB018B46C|          Green Door|198.19057|2009|ARKULHT11C8A415E71|\n",
      "|SOAFBKM12AB01837A7|          Brain Dead| 94.22322|1995|ARL14X91187FB4CF14|\n",
      "|SOTCOTZ12A8C136BCB|            Elevator|248.31955|2008|AR7WK5411A348EF5EA|\n",
      "|SOIGIVK12AB018E9AA|             Ionized|444.83873|1996|ARNCNV91187FB4D552|\n",
      "+------------------+--------------------+---------+----+------------------+\n",
      "only showing top 20 rows\n",
      "\n"
     ]
    }
   ],
   "source": [
    "songs_df.show()"
   ]
  },
  {
   "cell_type": "code",
   "execution_count": 21,
   "metadata": {},
   "outputs": [
    {
     "data": {
      "text/plain": [
       "['song_id', 'title', 'duration', 'year', 'artist_id']"
      ]
     },
     "execution_count": 21,
     "metadata": {},
     "output_type": "execute_result"
    }
   ],
   "source": [
    "songs_df.columns"
   ]
  },
  {
   "cell_type": "markdown",
   "metadata": {},
   "source": [
    "songplay_id, start_time, user_id, level, song_id, artist_id, session_id, location, user_agent"
   ]
  },
  {
   "cell_type": "code",
   "execution_count": 28,
   "metadata": {},
   "outputs": [],
   "source": [
    " songplays_table = (\n",
    "     dflog.join(songs_df, songs_df.title == dflog.song)\n",
    "     .select(\n",
    "         col('ts_timestamp').alias('start_time'),\n",
    "         col('userId').alias('user_id'),\n",
    "         col('level'),\n",
    "         col('song_id'),\n",
    "         col('artist_id'),\n",
    "         col('sessionId').alias('session_id'),\n",
    "         col('location'),\n",
    "         col('userAgent').alias('user_agent'),\n",
    "         month(col('ts_timestamp')).alias('month'),\n",
    "         year(col('ts_timestamp')).alias(\"year\")\n",
    "     ).withColumn('songplay_id', F.monotonically_increasing_id()\n",
    "        )\n",
    " )"
   ]
  },
  {
   "cell_type": "code",
   "execution_count": 29,
   "metadata": {},
   "outputs": [
    {
     "data": {
      "text/plain": [
       "['start_time',\n",
       " 'user_id',\n",
       " 'level',\n",
       " 'song_id',\n",
       " 'artist_id',\n",
       " 'session_id',\n",
       " 'location',\n",
       " 'user_agent',\n",
       " 'month',\n",
       " 'year',\n",
       " 'songplay_id']"
      ]
     },
     "execution_count": 29,
     "metadata": {},
     "output_type": "execute_result"
    }
   ],
   "source": [
    "songplays_table.columns"
   ]
  },
  {
   "cell_type": "code",
   "execution_count": null,
   "metadata": {},
   "outputs": [],
   "source": [
    "songplays_table.write.partitionBy('year','month').parquet(output_data + \"songplays.parquet\", mode=\"overwrite\")"
   ]
  }
 ],
 "metadata": {
  "kernelspec": {
   "display_name": "Python 3",
   "language": "python",
   "name": "python3"
  },
  "language_info": {
   "codemirror_mode": {
    "name": "ipython",
    "version": 3
   },
   "file_extension": ".py",
   "mimetype": "text/x-python",
   "name": "python",
   "nbconvert_exporter": "python",
   "pygments_lexer": "ipython3",
   "version": "3.7.4"
  }
 },
 "nbformat": 4,
 "nbformat_minor": 4
}
