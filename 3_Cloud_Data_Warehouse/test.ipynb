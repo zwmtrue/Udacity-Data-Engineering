{
 "cells": [
  {
   "cell_type": "markdown",
   "metadata": {
    "editable": true
   },
   "source": [
    "This note book provides a quick way to test queries for validation and new feature development."
   ]
  },
  {
   "cell_type": "code",
   "execution_count": 283,
   "metadata": {
    "editable": true
   },
   "outputs": [
    {
     "name": "stdout",
     "output_type": "stream",
     "text": [
      "The autoreload extension is already loaded. To reload it, use:\n",
      "  %reload_ext autoreload\n"
     ]
    }
   ],
   "source": [
    "import configparser\n",
    "import psycopg2\n",
    "from sql_queries import create_table_queries, drop_table_queries,copy_table_queries,insert_table_queries\n",
    "%load_ext autoreload\n",
    "%autoreload 2\n",
    "conn = psycopg2.connect(\"host={} dbname={} user={} password={} port={}\".format(*config['CLUSTER'].values()))\n",
    "cur = conn.cursor()"
   ]
  },
  {
   "cell_type": "code",
   "execution_count": 275,
   "metadata": {
    "editable": true
   },
   "outputs": [],
   "source": [
    "q=5"
   ]
  },
  {
   "cell_type": "code",
   "execution_count": 276,
   "metadata": {
    "editable": true
   },
   "outputs": [
    {
     "name": "stdout",
     "output_type": "stream",
     "text": [
      "DROP TABLE IF EXISTS artists\n"
     ]
    }
   ],
   "source": [
    "query = drop_table_queries[q]\n",
    "print(query)\n",
    "cur.execute(query)\n",
    "conn.commit()"
   ]
  },
  {
   "cell_type": "code",
   "execution_count": 277,
   "metadata": {
    "editable": true
   },
   "outputs": [
    {
     "name": "stdout",
     "output_type": "stream",
     "text": [
      "\n",
      "    CREATE TABLE artists(\n",
      "    artist_id varchar NOT NULL SORTKEY, \n",
      "    name varchar NOT NULL, \n",
      "    location varchar, \n",
      "    latitude float, \n",
      "    longitude float\n",
      "    )\n",
      "\n"
     ]
    }
   ],
   "source": [
    "query = create_table_queries[q]\n",
    "print(query)\n",
    "cur.execute(query)\n",
    "conn.commit()"
   ]
  },
  {
   "cell_type": "code",
   "execution_count": 286,
   "metadata": {
    "editable": true
   },
   "outputs": [
    {
     "name": "stdout",
     "output_type": "stream",
     "text": [
      "executing query:\n",
      "\n",
      "INSERT INTO time\n",
      "    (start_time, hour, day, week, month, year, weekday)\n",
      "    SELECT DISTINCT TIMESTAMP 'epoch' + ts/1000 *INTERVAL '1 second' as start_time,\n",
      "            EXTRACT (hour from start_time) as hour,\n",
      "            EXTRACT (day from start_time) as day,\n",
      "            EXTRACT (week from start_time) as week,\n",
      "            EXTRACT (month from start_time) as month,\n",
      "            EXTRACT (year from start_time) as year,\n",
      "            EXTRACT (dow from start_time) as weekday \n",
      "        FROM staging_events\n",
      "        WHERE TRIM(page) = 'NextSong' \n",
      "\n"
     ]
    }
   ],
   "source": [
    "print(\"executing query:\\n{}\".format(query))"
   ]
  },
  {
   "cell_type": "code",
   "execution_count": null,
   "metadata": {
    "editable": true
   },
   "outputs": [],
   "source": [
    "query = copy_table_queries[q]\n",
    "print(query)\n",
    "cur.execute(query)\n",
    "conn.commit()"
   ]
  },
  {
   "cell_type": "code",
   "execution_count": 285,
   "metadata": {
    "editable": true
   },
   "outputs": [
    {
     "name": "stdout",
     "output_type": "stream",
     "text": [
      "\n",
      "INSERT INTO time\n",
      "    (start_time, hour, day, week, month, year, weekday)\n",
      "    SELECT DISTINCT TIMESTAMP 'epoch' + ts/1000 *INTERVAL '1 second' as start_time,\n",
      "            EXTRACT (hour from start_time) as hour,\n",
      "            EXTRACT (day from start_time) as day,\n",
      "            EXTRACT (week from start_time) as week,\n",
      "            EXTRACT (month from start_time) as month,\n",
      "            EXTRACT (year from start_time) as year,\n",
      "            EXTRACT (dow from start_time) as weekday \n",
      "        FROM staging_events\n",
      "        WHERE TRIM(page) = 'NextSong' \n",
      "\n"
     ]
    }
   ],
   "source": [
    "q=4\n",
    "query = insert_table_queries[q]\n",
    "print(query)\n",
    "cur.execute(query)\n",
    "conn.commit()"
   ]
  }
 ],
 "metadata": {
  "kernelspec": {
   "display_name": "Python 3",
   "language": "python",
   "name": "python3"
  },
  "language_info": {
   "codemirror_mode": {
    "name": "ipython",
    "version": 3
   },
   "file_extension": ".py",
   "mimetype": "text/x-python",
   "name": "python",
   "nbconvert_exporter": "python",
   "pygments_lexer": "ipython3",
   "version": "3.6.3"
  }
 },
 "nbformat": 4,
 "nbformat_minor": 4
}
